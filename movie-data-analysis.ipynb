{
 "cells": [
  {
   "cell_type": "markdown",
   "id": "d8687bc6",
   "metadata": {
    "papermill": {
     "duration": 0.014726,
     "end_time": "2024-04-02T10:58:03.813267",
     "exception": false,
     "start_time": "2024-04-02T10:58:03.798541",
     "status": "completed"
    },
    "tags": []
   },
   "source": [
    "# 1. Importing and Understanding the Dataset\n",
    "**Dataset**: IMDB Dataset of top 1000 movies and tv shows.\n",
    "\n",
    "**Column name Description**\n",
    "\n",
    "* Poster_Link - Link of the poster that imdb using\n",
    "* Series_Title = Name of the movie\n",
    "* Released_Year - Year at which that movie released\n",
    "* Certificate - Certificate earned by that movie\n",
    "* Runtime - Total runtime of the movie\n",
    "* Genre - Genre of the movie\n",
    "* IMDB_Rating - Rating of the movie at IMDB site\n",
    "* Overview - mini story/ summary\n",
    "* Meta_score - Score earned by the movie\n",
    "* Director - Name of the Director\n",
    "* Star1,Star2,Star3,Star4 - Name of the Stars\n",
    "* No_of_votes - Total number of votes"
   ]
  },
  {
   "cell_type": "markdown",
   "id": "b4ddb9d2",
   "metadata": {
    "papermill": {
     "duration": 0.014954,
     "end_time": "2024-04-02T10:58:03.842771",
     "exception": false,
     "start_time": "2024-04-02T10:58:03.827817",
     "status": "completed"
    },
    "tags": []
   },
   "source": [
    "**Importing the necessary module**"
   ]
  },
  {
   "cell_type": "code",
   "execution_count": 1,
   "id": "ae567203",
   "metadata": {
    "execution": {
     "iopub.execute_input": "2024-04-02T10:58:03.873541Z",
     "iopub.status.busy": "2024-04-02T10:58:03.872844Z",
     "iopub.status.idle": "2024-04-02T10:58:04.866664Z",
     "shell.execute_reply": "2024-04-02T10:58:04.865473Z"
    },
    "papermill": {
     "duration": 1.012342,
     "end_time": "2024-04-02T10:58:04.869592",
     "exception": false,
     "start_time": "2024-04-02T10:58:03.857250",
     "status": "completed"
    },
    "tags": []
   },
   "outputs": [],
   "source": [
    "import pandas as pd\n",
    "import numpy as np"
   ]
  },
  {
   "cell_type": "code",
   "execution_count": 2,
   "id": "53e09518",
   "metadata": {
    "execution": {
     "iopub.execute_input": "2024-04-02T10:58:04.901280Z",
     "iopub.status.busy": "2024-04-02T10:58:04.900722Z",
     "iopub.status.idle": "2024-04-02T10:58:04.965212Z",
     "shell.execute_reply": "2024-04-02T10:58:04.964022Z"
    },
    "papermill": {
     "duration": 0.083631,
     "end_time": "2024-04-02T10:58:04.967744",
     "exception": false,
     "start_time": "2024-04-02T10:58:04.884113",
     "status": "completed"
    },
    "tags": []
   },
   "outputs": [
    {
     "data": {
      "text/html": [
       "<div>\n",
       "<style scoped>\n",
       "    .dataframe tbody tr th:only-of-type {\n",
       "        vertical-align: middle;\n",
       "    }\n",
       "\n",
       "    .dataframe tbody tr th {\n",
       "        vertical-align: top;\n",
       "    }\n",
       "\n",
       "    .dataframe thead th {\n",
       "        text-align: right;\n",
       "    }\n",
       "</style>\n",
       "<table border=\"1\" class=\"dataframe\">\n",
       "  <thead>\n",
       "    <tr style=\"text-align: right;\">\n",
       "      <th></th>\n",
       "      <th>Poster_Link</th>\n",
       "      <th>Series_Title</th>\n",
       "      <th>Released_Year</th>\n",
       "      <th>Certificate</th>\n",
       "      <th>Runtime</th>\n",
       "      <th>Genre</th>\n",
       "      <th>IMDB_Rating</th>\n",
       "      <th>Overview</th>\n",
       "      <th>Meta_score</th>\n",
       "      <th>Director</th>\n",
       "      <th>Star1</th>\n",
       "      <th>Star2</th>\n",
       "      <th>Star3</th>\n",
       "      <th>Star4</th>\n",
       "      <th>No_of_Votes</th>\n",
       "      <th>Gross</th>\n",
       "    </tr>\n",
       "  </thead>\n",
       "  <tbody>\n",
       "    <tr>\n",
       "      <th>0</th>\n",
       "      <td>https://m.media-amazon.com/images/M/MV5BMDFkYT...</td>\n",
       "      <td>The Shawshank Redemption</td>\n",
       "      <td>1994</td>\n",
       "      <td>A</td>\n",
       "      <td>142 min</td>\n",
       "      <td>Drama</td>\n",
       "      <td>9.3</td>\n",
       "      <td>Two imprisoned men bond over a number of years...</td>\n",
       "      <td>80.0</td>\n",
       "      <td>Frank Darabont</td>\n",
       "      <td>Tim Robbins</td>\n",
       "      <td>Morgan Freeman</td>\n",
       "      <td>Bob Gunton</td>\n",
       "      <td>William Sadler</td>\n",
       "      <td>2343110</td>\n",
       "      <td>28,341,469</td>\n",
       "    </tr>\n",
       "    <tr>\n",
       "      <th>1</th>\n",
       "      <td>https://m.media-amazon.com/images/M/MV5BM2MyNj...</td>\n",
       "      <td>The Godfather</td>\n",
       "      <td>1972</td>\n",
       "      <td>A</td>\n",
       "      <td>175 min</td>\n",
       "      <td>Crime, Drama</td>\n",
       "      <td>9.2</td>\n",
       "      <td>An organized crime dynasty's aging patriarch t...</td>\n",
       "      <td>100.0</td>\n",
       "      <td>Francis Ford Coppola</td>\n",
       "      <td>Marlon Brando</td>\n",
       "      <td>Al Pacino</td>\n",
       "      <td>James Caan</td>\n",
       "      <td>Diane Keaton</td>\n",
       "      <td>1620367</td>\n",
       "      <td>134,966,411</td>\n",
       "    </tr>\n",
       "  </tbody>\n",
       "</table>\n",
       "</div>"
      ],
      "text/plain": [
       "                                         Poster_Link  \\\n",
       "0  https://m.media-amazon.com/images/M/MV5BMDFkYT...   \n",
       "1  https://m.media-amazon.com/images/M/MV5BM2MyNj...   \n",
       "\n",
       "               Series_Title Released_Year Certificate  Runtime         Genre  \\\n",
       "0  The Shawshank Redemption          1994           A  142 min         Drama   \n",
       "1             The Godfather          1972           A  175 min  Crime, Drama   \n",
       "\n",
       "   IMDB_Rating                                           Overview  Meta_score  \\\n",
       "0          9.3  Two imprisoned men bond over a number of years...        80.0   \n",
       "1          9.2  An organized crime dynasty's aging patriarch t...       100.0   \n",
       "\n",
       "               Director          Star1           Star2       Star3  \\\n",
       "0        Frank Darabont    Tim Robbins  Morgan Freeman  Bob Gunton   \n",
       "1  Francis Ford Coppola  Marlon Brando       Al Pacino  James Caan   \n",
       "\n",
       "            Star4  No_of_Votes        Gross  \n",
       "0  William Sadler      2343110   28,341,469  \n",
       "1    Diane Keaton      1620367  134,966,411  "
      ]
     },
     "execution_count": 2,
     "metadata": {},
     "output_type": "execute_result"
    }
   ],
   "source": [
    "#LOADING THE DATASET\n",
    "data = pd.read_csv(\"/kaggle/input/movie-database-analysis/imdb_top_1000.csv\")\n",
    "data.head(2)"
   ]
  },
  {
   "cell_type": "markdown",
   "id": "69056358",
   "metadata": {
    "papermill": {
     "duration": 0.014196,
     "end_time": "2024-04-02T10:58:04.996544",
     "exception": false,
     "start_time": "2024-04-02T10:58:04.982348",
     "status": "completed"
    },
    "tags": []
   },
   "source": [
    "**Initial steps involve:**\n",
    "\n",
    "1. Importing csv file by utilising pandas library and .read_csv() method\n",
    "2. The file will get converted into the Dataframe\n",
    "3. By deploying various methods and attributes, we can retrieve useful information about the dataset for better understanding"
   ]
  },
  {
   "cell_type": "code",
   "execution_count": 3,
   "id": "9b814571",
   "metadata": {
    "execution": {
     "iopub.execute_input": "2024-04-02T10:58:05.027217Z",
     "iopub.status.busy": "2024-04-02T10:58:05.026780Z",
     "iopub.status.idle": "2024-04-02T10:58:05.056800Z",
     "shell.execute_reply": "2024-04-02T10:58:05.055540Z"
    },
    "papermill": {
     "duration": 0.048727,
     "end_time": "2024-04-02T10:58:05.059730",
     "exception": false,
     "start_time": "2024-04-02T10:58:05.011003",
     "status": "completed"
    },
    "tags": []
   },
   "outputs": [
    {
     "name": "stdout",
     "output_type": "stream",
     "text": [
      "<class 'pandas.core.frame.DataFrame'>\n",
      "RangeIndex: 1000 entries, 0 to 999\n",
      "Data columns (total 16 columns):\n",
      " #   Column         Non-Null Count  Dtype  \n",
      "---  ------         --------------  -----  \n",
      " 0   Poster_Link    1000 non-null   object \n",
      " 1   Series_Title   1000 non-null   object \n",
      " 2   Released_Year  1000 non-null   object \n",
      " 3   Certificate    899 non-null    object \n",
      " 4   Runtime        1000 non-null   object \n",
      " 5   Genre          1000 non-null   object \n",
      " 6   IMDB_Rating    1000 non-null   float64\n",
      " 7   Overview       1000 non-null   object \n",
      " 8   Meta_score     843 non-null    float64\n",
      " 9   Director       1000 non-null   object \n",
      " 10  Star1          1000 non-null   object \n",
      " 11  Star2          1000 non-null   object \n",
      " 12  Star3          1000 non-null   object \n",
      " 13  Star4          1000 non-null   object \n",
      " 14  No_of_Votes    1000 non-null   int64  \n",
      " 15  Gross          831 non-null    object \n",
      "dtypes: float64(2), int64(1), object(13)\n",
      "memory usage: 125.1+ KB\n"
     ]
    }
   ],
   "source": [
    "# Checking null values present and Datatype of each column \n",
    "data.info()"
   ]
  },
  {
   "cell_type": "markdown",
   "id": "a816a7be",
   "metadata": {
    "papermill": {
     "duration": 0.014469,
     "end_time": "2024-04-02T10:58:05.089992",
     "exception": false,
     "start_time": "2024-04-02T10:58:05.075523",
     "status": "completed"
    },
    "tags": []
   },
   "source": [
    "# 2.Data Preparation and Cleaning"
   ]
  },
  {
   "cell_type": "markdown",
   "id": "45a75deb",
   "metadata": {
    "papermill": {
     "duration": 0.014657,
     "end_time": "2024-04-02T10:58:05.119698",
     "exception": false,
     "start_time": "2024-04-02T10:58:05.105041",
     "status": "completed"
    },
    "tags": []
   },
   "source": [
    "**droping  the unwanted column**"
   ]
  },
  {
   "cell_type": "code",
   "execution_count": 4,
   "id": "892ff526",
   "metadata": {
    "execution": {
     "iopub.execute_input": "2024-04-02T10:58:05.150720Z",
     "iopub.status.busy": "2024-04-02T10:58:05.150352Z",
     "iopub.status.idle": "2024-04-02T10:58:05.172485Z",
     "shell.execute_reply": "2024-04-02T10:58:05.171573Z"
    },
    "papermill": {
     "duration": 0.04034,
     "end_time": "2024-04-02T10:58:05.174644",
     "exception": false,
     "start_time": "2024-04-02T10:58:05.134304",
     "status": "completed"
    },
    "tags": []
   },
   "outputs": [
    {
     "data": {
      "text/html": [
       "<div>\n",
       "<style scoped>\n",
       "    .dataframe tbody tr th:only-of-type {\n",
       "        vertical-align: middle;\n",
       "    }\n",
       "\n",
       "    .dataframe tbody tr th {\n",
       "        vertical-align: top;\n",
       "    }\n",
       "\n",
       "    .dataframe thead th {\n",
       "        text-align: right;\n",
       "    }\n",
       "</style>\n",
       "<table border=\"1\" class=\"dataframe\">\n",
       "  <thead>\n",
       "    <tr style=\"text-align: right;\">\n",
       "      <th></th>\n",
       "      <th>Series_Title</th>\n",
       "      <th>Released_Year</th>\n",
       "      <th>Certificate</th>\n",
       "      <th>Runtime</th>\n",
       "      <th>Genre</th>\n",
       "      <th>IMDB_Rating</th>\n",
       "      <th>Overview</th>\n",
       "      <th>Director</th>\n",
       "      <th>Star1</th>\n",
       "      <th>Star2</th>\n",
       "      <th>Star3</th>\n",
       "      <th>Star4</th>\n",
       "      <th>No_of_Votes</th>\n",
       "      <th>Gross</th>\n",
       "    </tr>\n",
       "  </thead>\n",
       "  <tbody>\n",
       "    <tr>\n",
       "      <th>0</th>\n",
       "      <td>The Shawshank Redemption</td>\n",
       "      <td>1994</td>\n",
       "      <td>A</td>\n",
       "      <td>142 min</td>\n",
       "      <td>Drama</td>\n",
       "      <td>9.3</td>\n",
       "      <td>Two imprisoned men bond over a number of years...</td>\n",
       "      <td>Frank Darabont</td>\n",
       "      <td>Tim Robbins</td>\n",
       "      <td>Morgan Freeman</td>\n",
       "      <td>Bob Gunton</td>\n",
       "      <td>William Sadler</td>\n",
       "      <td>2343110</td>\n",
       "      <td>28,341,469</td>\n",
       "    </tr>\n",
       "    <tr>\n",
       "      <th>1</th>\n",
       "      <td>The Godfather</td>\n",
       "      <td>1972</td>\n",
       "      <td>A</td>\n",
       "      <td>175 min</td>\n",
       "      <td>Crime, Drama</td>\n",
       "      <td>9.2</td>\n",
       "      <td>An organized crime dynasty's aging patriarch t...</td>\n",
       "      <td>Francis Ford Coppola</td>\n",
       "      <td>Marlon Brando</td>\n",
       "      <td>Al Pacino</td>\n",
       "      <td>James Caan</td>\n",
       "      <td>Diane Keaton</td>\n",
       "      <td>1620367</td>\n",
       "      <td>134,966,411</td>\n",
       "    </tr>\n",
       "  </tbody>\n",
       "</table>\n",
       "</div>"
      ],
      "text/plain": [
       "               Series_Title Released_Year Certificate  Runtime         Genre  \\\n",
       "0  The Shawshank Redemption          1994           A  142 min         Drama   \n",
       "1             The Godfather          1972           A  175 min  Crime, Drama   \n",
       "\n",
       "   IMDB_Rating                                           Overview  \\\n",
       "0          9.3  Two imprisoned men bond over a number of years...   \n",
       "1          9.2  An organized crime dynasty's aging patriarch t...   \n",
       "\n",
       "               Director          Star1           Star2       Star3  \\\n",
       "0        Frank Darabont    Tim Robbins  Morgan Freeman  Bob Gunton   \n",
       "1  Francis Ford Coppola  Marlon Brando       Al Pacino  James Caan   \n",
       "\n",
       "            Star4  No_of_Votes        Gross  \n",
       "0  William Sadler      2343110   28,341,469  \n",
       "1    Diane Keaton      1620367  134,966,411  "
      ]
     },
     "execution_count": 4,
     "metadata": {},
     "output_type": "execute_result"
    }
   ],
   "source": [
    "data = data.drop(['Poster_Link','Meta_score'],axis=1)\n",
    "data.head(2)"
   ]
  },
  {
   "cell_type": "markdown",
   "id": "da755eea",
   "metadata": {
    "papermill": {
     "duration": 0.014589,
     "end_time": "2024-04-02T10:58:05.204175",
     "exception": false,
     "start_time": "2024-04-02T10:58:05.189586",
     "status": "completed"
    },
    "tags": []
   },
   "source": [
    "*check the number of missing values (NaN) in each column of our DataFrame*"
   ]
  },
  {
   "cell_type": "code",
   "execution_count": 5,
   "id": "ffb55993",
   "metadata": {
    "execution": {
     "iopub.execute_input": "2024-04-02T10:58:05.235543Z",
     "iopub.status.busy": "2024-04-02T10:58:05.235161Z",
     "iopub.status.idle": "2024-04-02T10:58:05.246124Z",
     "shell.execute_reply": "2024-04-02T10:58:05.245022Z"
    },
    "papermill": {
     "duration": 0.02954,
     "end_time": "2024-04-02T10:58:05.248466",
     "exception": false,
     "start_time": "2024-04-02T10:58:05.218926",
     "status": "completed"
    },
    "tags": []
   },
   "outputs": [
    {
     "data": {
      "text/plain": [
       "Series_Title       0\n",
       "Released_Year      0\n",
       "Certificate      101\n",
       "Runtime            0\n",
       "Genre              0\n",
       "IMDB_Rating        0\n",
       "Overview           0\n",
       "Director           0\n",
       "Star1              0\n",
       "Star2              0\n",
       "Star3              0\n",
       "Star4              0\n",
       "No_of_Votes        0\n",
       "Gross            169\n",
       "dtype: int64"
      ]
     },
     "execution_count": 5,
     "metadata": {},
     "output_type": "execute_result"
    }
   ],
   "source": [
    "data.isna().sum()"
   ]
  },
  {
   "cell_type": "markdown",
   "id": "3b942f69",
   "metadata": {
    "papermill": {
     "duration": 0.014853,
     "end_time": "2024-04-02T10:58:05.278437",
     "exception": false,
     "start_time": "2024-04-02T10:58:05.263584",
     "status": "completed"
    },
    "tags": []
   },
   "source": [
    "**remove rows where the 'Gross' column contains NaN (missing) values.**"
   ]
  },
  {
   "cell_type": "code",
   "execution_count": 6,
   "id": "bb44d370",
   "metadata": {
    "execution": {
     "iopub.execute_input": "2024-04-02T10:58:05.311173Z",
     "iopub.status.busy": "2024-04-02T10:58:05.310411Z",
     "iopub.status.idle": "2024-04-02T10:58:05.318659Z",
     "shell.execute_reply": "2024-04-02T10:58:05.317462Z"
    },
    "papermill": {
     "duration": 0.027578,
     "end_time": "2024-04-02T10:58:05.321328",
     "exception": false,
     "start_time": "2024-04-02T10:58:05.293750",
     "status": "completed"
    },
    "tags": []
   },
   "outputs": [],
   "source": [
    "data =data[data['Gross'].isna()==False]"
   ]
  },
  {
   "cell_type": "markdown",
   "id": "706ac76f",
   "metadata": {
    "papermill": {
     "duration": 0.014734,
     "end_time": "2024-04-02T10:58:05.351136",
     "exception": false,
     "start_time": "2024-04-02T10:58:05.336402",
     "status": "completed"
    },
    "tags": []
   },
   "source": [
    "**renaming data column**"
   ]
  },
  {
   "cell_type": "code",
   "execution_count": 7,
   "id": "125d899e",
   "metadata": {
    "execution": {
     "iopub.execute_input": "2024-04-02T10:58:05.383137Z",
     "iopub.status.busy": "2024-04-02T10:58:05.382709Z",
     "iopub.status.idle": "2024-04-02T10:58:05.388677Z",
     "shell.execute_reply": "2024-04-02T10:58:05.387889Z"
    },
    "papermill": {
     "duration": 0.024897,
     "end_time": "2024-04-02T10:58:05.391055",
     "exception": false,
     "start_time": "2024-04-02T10:58:05.366158",
     "status": "completed"
    },
    "tags": []
   },
   "outputs": [],
   "source": [
    "data.rename(columns={'Released_Year':'Release Year', \n",
    "             'Certificate':'Age Rating', \n",
    "             'IMDB_Rating':'IMDB Rating',\n",
    "             'No_of_Votes':'Votes',\n",
    "             'Gross':'Gross Revenue'}, inplace=True)"
   ]
  },
  {
   "cell_type": "markdown",
   "id": "d3eb9225",
   "metadata": {
    "papermill": {
     "duration": 0.014947,
     "end_time": "2024-04-02T10:58:05.421452",
     "exception": false,
     "start_time": "2024-04-02T10:58:05.406505",
     "status": "completed"
    },
    "tags": []
   },
   "source": [
    "**consolidating different age ratings into three main categories: 'U' (Universal), 'UA' (Universal - Adult), and 'A' (Adult).**"
   ]
  },
  {
   "cell_type": "code",
   "execution_count": 8,
   "id": "677ccb6d",
   "metadata": {
    "execution": {
     "iopub.execute_input": "2024-04-02T10:58:05.454199Z",
     "iopub.status.busy": "2024-04-02T10:58:05.453476Z",
     "iopub.status.idle": "2024-04-02T10:58:05.465614Z",
     "shell.execute_reply": "2024-04-02T10:58:05.464748Z"
    },
    "papermill": {
     "duration": 0.031404,
     "end_time": "2024-04-02T10:58:05.468056",
     "exception": false,
     "start_time": "2024-04-02T10:58:05.436652",
     "status": "completed"
    },
    "tags": []
   },
   "outputs": [
    {
     "data": {
      "text/plain": [
       "Age Rating\n",
       "A     315\n",
       "U     237\n",
       "UA    232\n",
       "Name: count, dtype: int64"
      ]
     },
     "execution_count": 8,
     "metadata": {},
     "output_type": "execute_result"
    }
   ],
   "source": [
    "data['Age Rating'] = data['Age Rating'].map({'U':'U','G':'U','PG':'U','GP':'U','TV-PG':'U',\n",
    "                                             'UA':'UA','PG-13':'UA','U/A':'UA','Passed':'UA','Approved':'UA',\n",
    "                                             'A':'A','R':'A'})\n",
    "data = data[data['Age Rating'].isna() == False]\n",
    "data['Age Rating'].value_counts()"
   ]
  },
  {
   "cell_type": "code",
   "execution_count": 9,
   "id": "2e85bb2a",
   "metadata": {
    "execution": {
     "iopub.execute_input": "2024-04-02T10:58:05.501648Z",
     "iopub.status.busy": "2024-04-02T10:58:05.500929Z",
     "iopub.status.idle": "2024-04-02T10:58:05.523304Z",
     "shell.execute_reply": "2024-04-02T10:58:05.522163Z"
    },
    "papermill": {
     "duration": 0.041457,
     "end_time": "2024-04-02T10:58:05.525612",
     "exception": false,
     "start_time": "2024-04-02T10:58:05.484155",
     "status": "completed"
    },
    "tags": []
   },
   "outputs": [
    {
     "data": {
      "text/html": [
       "<div>\n",
       "<style scoped>\n",
       "    .dataframe tbody tr th:only-of-type {\n",
       "        vertical-align: middle;\n",
       "    }\n",
       "\n",
       "    .dataframe tbody tr th {\n",
       "        vertical-align: top;\n",
       "    }\n",
       "\n",
       "    .dataframe thead th {\n",
       "        text-align: right;\n",
       "    }\n",
       "</style>\n",
       "<table border=\"1\" class=\"dataframe\">\n",
       "  <thead>\n",
       "    <tr style=\"text-align: right;\">\n",
       "      <th></th>\n",
       "      <th>Series_Title</th>\n",
       "      <th>Release Year</th>\n",
       "      <th>Age Rating</th>\n",
       "      <th>Runtime</th>\n",
       "      <th>Genre</th>\n",
       "      <th>IMDB Rating</th>\n",
       "      <th>Overview</th>\n",
       "      <th>Director</th>\n",
       "      <th>Star1</th>\n",
       "      <th>Star2</th>\n",
       "      <th>Star3</th>\n",
       "      <th>Star4</th>\n",
       "      <th>Votes</th>\n",
       "      <th>Gross Revenue</th>\n",
       "    </tr>\n",
       "  </thead>\n",
       "  <tbody>\n",
       "    <tr>\n",
       "      <th>0</th>\n",
       "      <td>The Shawshank Redemption</td>\n",
       "      <td>1994</td>\n",
       "      <td>A</td>\n",
       "      <td>142 min</td>\n",
       "      <td>Drama</td>\n",
       "      <td>9.3</td>\n",
       "      <td>Two imprisoned men bond over a number of years...</td>\n",
       "      <td>Frank Darabont</td>\n",
       "      <td>Tim Robbins</td>\n",
       "      <td>Morgan Freeman</td>\n",
       "      <td>Bob Gunton</td>\n",
       "      <td>William Sadler</td>\n",
       "      <td>2343110</td>\n",
       "      <td>28,341,469</td>\n",
       "    </tr>\n",
       "    <tr>\n",
       "      <th>1</th>\n",
       "      <td>The Godfather</td>\n",
       "      <td>1972</td>\n",
       "      <td>A</td>\n",
       "      <td>175 min</td>\n",
       "      <td>Crime, Drama</td>\n",
       "      <td>9.2</td>\n",
       "      <td>An organized crime dynasty's aging patriarch t...</td>\n",
       "      <td>Francis Ford Coppola</td>\n",
       "      <td>Marlon Brando</td>\n",
       "      <td>Al Pacino</td>\n",
       "      <td>James Caan</td>\n",
       "      <td>Diane Keaton</td>\n",
       "      <td>1620367</td>\n",
       "      <td>134,966,411</td>\n",
       "    </tr>\n",
       "    <tr>\n",
       "      <th>2</th>\n",
       "      <td>The Dark Knight</td>\n",
       "      <td>2008</td>\n",
       "      <td>UA</td>\n",
       "      <td>152 min</td>\n",
       "      <td>Action, Crime, Drama</td>\n",
       "      <td>9.0</td>\n",
       "      <td>When the menace known as the Joker wreaks havo...</td>\n",
       "      <td>Christopher Nolan</td>\n",
       "      <td>Christian Bale</td>\n",
       "      <td>Heath Ledger</td>\n",
       "      <td>Aaron Eckhart</td>\n",
       "      <td>Michael Caine</td>\n",
       "      <td>2303232</td>\n",
       "      <td>534,858,444</td>\n",
       "    </tr>\n",
       "    <tr>\n",
       "      <th>3</th>\n",
       "      <td>The Godfather: Part II</td>\n",
       "      <td>1974</td>\n",
       "      <td>A</td>\n",
       "      <td>202 min</td>\n",
       "      <td>Crime, Drama</td>\n",
       "      <td>9.0</td>\n",
       "      <td>The early life and career of Vito Corleone in ...</td>\n",
       "      <td>Francis Ford Coppola</td>\n",
       "      <td>Al Pacino</td>\n",
       "      <td>Robert De Niro</td>\n",
       "      <td>Robert Duvall</td>\n",
       "      <td>Diane Keaton</td>\n",
       "      <td>1129952</td>\n",
       "      <td>57,300,000</td>\n",
       "    </tr>\n",
       "    <tr>\n",
       "      <th>4</th>\n",
       "      <td>12 Angry Men</td>\n",
       "      <td>1957</td>\n",
       "      <td>U</td>\n",
       "      <td>96 min</td>\n",
       "      <td>Crime, Drama</td>\n",
       "      <td>9.0</td>\n",
       "      <td>A jury holdout attempts to prevent a miscarria...</td>\n",
       "      <td>Sidney Lumet</td>\n",
       "      <td>Henry Fonda</td>\n",
       "      <td>Lee J. Cobb</td>\n",
       "      <td>Martin Balsam</td>\n",
       "      <td>John Fiedler</td>\n",
       "      <td>689845</td>\n",
       "      <td>4,360,000</td>\n",
       "    </tr>\n",
       "    <tr>\n",
       "      <th>...</th>\n",
       "      <td>...</td>\n",
       "      <td>...</td>\n",
       "      <td>...</td>\n",
       "      <td>...</td>\n",
       "      <td>...</td>\n",
       "      <td>...</td>\n",
       "      <td>...</td>\n",
       "      <td>...</td>\n",
       "      <td>...</td>\n",
       "      <td>...</td>\n",
       "      <td>...</td>\n",
       "      <td>...</td>\n",
       "      <td>...</td>\n",
       "      <td>...</td>\n",
       "    </tr>\n",
       "    <tr>\n",
       "      <th>990</th>\n",
       "      <td>Giù la testa</td>\n",
       "      <td>1971</td>\n",
       "      <td>U</td>\n",
       "      <td>157 min</td>\n",
       "      <td>Drama, War, Western</td>\n",
       "      <td>7.6</td>\n",
       "      <td>A low-life bandit and an I.R.A. explosives exp...</td>\n",
       "      <td>Sergio Leone</td>\n",
       "      <td>Rod Steiger</td>\n",
       "      <td>James Coburn</td>\n",
       "      <td>Romolo Valli</td>\n",
       "      <td>Maria Monti</td>\n",
       "      <td>30144</td>\n",
       "      <td>696,690</td>\n",
       "    </tr>\n",
       "    <tr>\n",
       "      <th>991</th>\n",
       "      <td>Kelly's Heroes</td>\n",
       "      <td>1970</td>\n",
       "      <td>U</td>\n",
       "      <td>144 min</td>\n",
       "      <td>Adventure, Comedy, War</td>\n",
       "      <td>7.6</td>\n",
       "      <td>A group of U.S. soldiers sneaks across enemy l...</td>\n",
       "      <td>Brian G. Hutton</td>\n",
       "      <td>Clint Eastwood</td>\n",
       "      <td>Telly Savalas</td>\n",
       "      <td>Don Rickles</td>\n",
       "      <td>Carroll O'Connor</td>\n",
       "      <td>45338</td>\n",
       "      <td>1,378,435</td>\n",
       "    </tr>\n",
       "    <tr>\n",
       "      <th>992</th>\n",
       "      <td>The Jungle Book</td>\n",
       "      <td>1967</td>\n",
       "      <td>U</td>\n",
       "      <td>78 min</td>\n",
       "      <td>Animation, Adventure, Family</td>\n",
       "      <td>7.6</td>\n",
       "      <td>Bagheera the Panther and Baloo the Bear have a...</td>\n",
       "      <td>Wolfgang Reitherman</td>\n",
       "      <td>Phil Harris</td>\n",
       "      <td>Sebastian Cabot</td>\n",
       "      <td>Louis Prima</td>\n",
       "      <td>Bruce Reitherman</td>\n",
       "      <td>166409</td>\n",
       "      <td>141,843,612</td>\n",
       "    </tr>\n",
       "    <tr>\n",
       "      <th>994</th>\n",
       "      <td>A Hard Day's Night</td>\n",
       "      <td>1964</td>\n",
       "      <td>U</td>\n",
       "      <td>87 min</td>\n",
       "      <td>Comedy, Music, Musical</td>\n",
       "      <td>7.6</td>\n",
       "      <td>Over two \"typical\" days in the life of The Bea...</td>\n",
       "      <td>Richard Lester</td>\n",
       "      <td>John Lennon</td>\n",
       "      <td>Paul McCartney</td>\n",
       "      <td>George Harrison</td>\n",
       "      <td>Ringo Starr</td>\n",
       "      <td>40351</td>\n",
       "      <td>13,780,024</td>\n",
       "    </tr>\n",
       "    <tr>\n",
       "      <th>997</th>\n",
       "      <td>From Here to Eternity</td>\n",
       "      <td>1953</td>\n",
       "      <td>UA</td>\n",
       "      <td>118 min</td>\n",
       "      <td>Drama, Romance, War</td>\n",
       "      <td>7.6</td>\n",
       "      <td>In Hawaii in 1941, a private is cruelly punish...</td>\n",
       "      <td>Fred Zinnemann</td>\n",
       "      <td>Burt Lancaster</td>\n",
       "      <td>Montgomery Clift</td>\n",
       "      <td>Deborah Kerr</td>\n",
       "      <td>Donna Reed</td>\n",
       "      <td>43374</td>\n",
       "      <td>30,500,000</td>\n",
       "    </tr>\n",
       "  </tbody>\n",
       "</table>\n",
       "<p>784 rows × 14 columns</p>\n",
       "</div>"
      ],
      "text/plain": [
       "                 Series_Title Release Year Age Rating  Runtime  \\\n",
       "0    The Shawshank Redemption         1994          A  142 min   \n",
       "1               The Godfather         1972          A  175 min   \n",
       "2             The Dark Knight         2008         UA  152 min   \n",
       "3      The Godfather: Part II         1974          A  202 min   \n",
       "4                12 Angry Men         1957          U   96 min   \n",
       "..                        ...          ...        ...      ...   \n",
       "990              Giù la testa         1971          U  157 min   \n",
       "991            Kelly's Heroes         1970          U  144 min   \n",
       "992           The Jungle Book         1967          U   78 min   \n",
       "994        A Hard Day's Night         1964          U   87 min   \n",
       "997     From Here to Eternity         1953         UA  118 min   \n",
       "\n",
       "                            Genre  IMDB Rating  \\\n",
       "0                           Drama          9.3   \n",
       "1                    Crime, Drama          9.2   \n",
       "2            Action, Crime, Drama          9.0   \n",
       "3                    Crime, Drama          9.0   \n",
       "4                    Crime, Drama          9.0   \n",
       "..                            ...          ...   \n",
       "990           Drama, War, Western          7.6   \n",
       "991        Adventure, Comedy, War          7.6   \n",
       "992  Animation, Adventure, Family          7.6   \n",
       "994        Comedy, Music, Musical          7.6   \n",
       "997           Drama, Romance, War          7.6   \n",
       "\n",
       "                                              Overview              Director  \\\n",
       "0    Two imprisoned men bond over a number of years...        Frank Darabont   \n",
       "1    An organized crime dynasty's aging patriarch t...  Francis Ford Coppola   \n",
       "2    When the menace known as the Joker wreaks havo...     Christopher Nolan   \n",
       "3    The early life and career of Vito Corleone in ...  Francis Ford Coppola   \n",
       "4    A jury holdout attempts to prevent a miscarria...          Sidney Lumet   \n",
       "..                                                 ...                   ...   \n",
       "990  A low-life bandit and an I.R.A. explosives exp...          Sergio Leone   \n",
       "991  A group of U.S. soldiers sneaks across enemy l...       Brian G. Hutton   \n",
       "992  Bagheera the Panther and Baloo the Bear have a...   Wolfgang Reitherman   \n",
       "994  Over two \"typical\" days in the life of The Bea...        Richard Lester   \n",
       "997  In Hawaii in 1941, a private is cruelly punish...        Fred Zinnemann   \n",
       "\n",
       "              Star1             Star2            Star3             Star4  \\\n",
       "0       Tim Robbins    Morgan Freeman       Bob Gunton    William Sadler   \n",
       "1     Marlon Brando         Al Pacino       James Caan      Diane Keaton   \n",
       "2    Christian Bale      Heath Ledger    Aaron Eckhart     Michael Caine   \n",
       "3         Al Pacino    Robert De Niro    Robert Duvall      Diane Keaton   \n",
       "4       Henry Fonda       Lee J. Cobb    Martin Balsam      John Fiedler   \n",
       "..              ...               ...              ...               ...   \n",
       "990     Rod Steiger      James Coburn     Romolo Valli       Maria Monti   \n",
       "991  Clint Eastwood     Telly Savalas      Don Rickles  Carroll O'Connor   \n",
       "992     Phil Harris   Sebastian Cabot      Louis Prima  Bruce Reitherman   \n",
       "994     John Lennon    Paul McCartney  George Harrison       Ringo Starr   \n",
       "997  Burt Lancaster  Montgomery Clift     Deborah Kerr        Donna Reed   \n",
       "\n",
       "       Votes Gross Revenue  \n",
       "0    2343110    28,341,469  \n",
       "1    1620367   134,966,411  \n",
       "2    2303232   534,858,444  \n",
       "3    1129952    57,300,000  \n",
       "4     689845     4,360,000  \n",
       "..       ...           ...  \n",
       "990    30144       696,690  \n",
       "991    45338     1,378,435  \n",
       "992   166409   141,843,612  \n",
       "994    40351    13,780,024  \n",
       "997    43374    30,500,000  \n",
       "\n",
       "[784 rows x 14 columns]"
      ]
     },
     "execution_count": 9,
     "metadata": {},
     "output_type": "execute_result"
    }
   ],
   "source": [
    "data"
   ]
  },
  {
   "cell_type": "code",
   "execution_count": 10,
   "id": "d89872e6",
   "metadata": {
    "execution": {
     "iopub.execute_input": "2024-04-02T10:58:05.560748Z",
     "iopub.status.busy": "2024-04-02T10:58:05.560353Z",
     "iopub.status.idle": "2024-04-02T10:58:05.567982Z",
     "shell.execute_reply": "2024-04-02T10:58:05.567182Z"
    },
    "papermill": {
     "duration": 0.027256,
     "end_time": "2024-04-02T10:58:05.570242",
     "exception": false,
     "start_time": "2024-04-02T10:58:05.542986",
     "status": "completed"
    },
    "tags": []
   },
   "outputs": [],
   "source": [
    "#Filtering Release Year\n",
    "year_format = r'\\d\\d\\d\\d'\n",
    "data = data[data['Release Year'].str.match(year_format)].copy()"
   ]
  },
  {
   "cell_type": "code",
   "execution_count": 11,
   "id": "6428b0c7",
   "metadata": {
    "execution": {
     "iopub.execute_input": "2024-04-02T10:58:05.605059Z",
     "iopub.status.busy": "2024-04-02T10:58:05.604621Z",
     "iopub.status.idle": "2024-04-02T10:58:05.611914Z",
     "shell.execute_reply": "2024-04-02T10:58:05.610988Z"
    },
    "papermill": {
     "duration": 0.027595,
     "end_time": "2024-04-02T10:58:05.614289",
     "exception": false,
     "start_time": "2024-04-02T10:58:05.586694",
     "status": "completed"
    },
    "tags": []
   },
   "outputs": [],
   "source": [
    "#Changing Release Year type to int\n",
    "data['Release Year'] = data['Release Year'].astype(int)\n",
    "\n",
    "# Changing Runtime type to int \n",
    "data['Runtime'] = data['Runtime'].str[:-4].astype(int)"
   ]
  },
  {
   "cell_type": "code",
   "execution_count": 12,
   "id": "9945d0d6",
   "metadata": {
    "execution": {
     "iopub.execute_input": "2024-04-02T10:58:05.651142Z",
     "iopub.status.busy": "2024-04-02T10:58:05.650140Z",
     "iopub.status.idle": "2024-04-02T10:58:05.658365Z",
     "shell.execute_reply": "2024-04-02T10:58:05.657489Z"
    },
    "papermill": {
     "duration": 0.029499,
     "end_time": "2024-04-02T10:58:05.661009",
     "exception": false,
     "start_time": "2024-04-02T10:58:05.631510",
     "status": "completed"
    },
    "tags": []
   },
   "outputs": [],
   "source": [
    "#Changing Gross Revenue type to int\n",
    "data['Gross Revenue'] = data['Gross Revenue'].str.replace(',','').astype(int)\n",
    "data['Gross Revenue'] = data['Gross Revenue']*(10**-6)"
   ]
  },
  {
   "cell_type": "code",
   "execution_count": 13,
   "id": "8bcd8059",
   "metadata": {
    "execution": {
     "iopub.execute_input": "2024-04-02T10:58:05.696748Z",
     "iopub.status.busy": "2024-04-02T10:58:05.695921Z",
     "iopub.status.idle": "2024-04-02T10:58:05.717795Z",
     "shell.execute_reply": "2024-04-02T10:58:05.716637Z"
    },
    "papermill": {
     "duration": 0.042805,
     "end_time": "2024-04-02T10:58:05.720193",
     "exception": false,
     "start_time": "2024-04-02T10:58:05.677388",
     "status": "completed"
    },
    "tags": []
   },
   "outputs": [
    {
     "data": {
      "text/html": [
       "<div>\n",
       "<style scoped>\n",
       "    .dataframe tbody tr th:only-of-type {\n",
       "        vertical-align: middle;\n",
       "    }\n",
       "\n",
       "    .dataframe tbody tr th {\n",
       "        vertical-align: top;\n",
       "    }\n",
       "\n",
       "    .dataframe thead th {\n",
       "        text-align: right;\n",
       "    }\n",
       "</style>\n",
       "<table border=\"1\" class=\"dataframe\">\n",
       "  <thead>\n",
       "    <tr style=\"text-align: right;\">\n",
       "      <th></th>\n",
       "      <th>Genre</th>\n",
       "      <th>IMDB Rating</th>\n",
       "    </tr>\n",
       "  </thead>\n",
       "  <tbody>\n",
       "    <tr>\n",
       "      <th>0</th>\n",
       "      <td>Crime, Mystery, Thriller</td>\n",
       "      <td>8.40</td>\n",
       "    </tr>\n",
       "    <tr>\n",
       "      <th>1</th>\n",
       "      <td>Horror, Sci-Fi</td>\n",
       "      <td>8.40</td>\n",
       "    </tr>\n",
       "    <tr>\n",
       "      <th>2</th>\n",
       "      <td>Drama, Horror</td>\n",
       "      <td>8.40</td>\n",
       "    </tr>\n",
       "    <tr>\n",
       "      <th>3</th>\n",
       "      <td>Action, Sci-Fi</td>\n",
       "      <td>8.40</td>\n",
       "    </tr>\n",
       "    <tr>\n",
       "      <th>4</th>\n",
       "      <td>Drama, Mystery, War</td>\n",
       "      <td>8.35</td>\n",
       "    </tr>\n",
       "    <tr>\n",
       "      <th>5</th>\n",
       "      <td>Western</td>\n",
       "      <td>8.35</td>\n",
       "    </tr>\n",
       "    <tr>\n",
       "      <th>6</th>\n",
       "      <td>Crime, Drama, Sci-Fi</td>\n",
       "      <td>8.30</td>\n",
       "    </tr>\n",
       "    <tr>\n",
       "      <th>7</th>\n",
       "      <td>Adventure, Mystery, Thriller</td>\n",
       "      <td>8.30</td>\n",
       "    </tr>\n",
       "    <tr>\n",
       "      <th>8</th>\n",
       "      <td>Comedy, Musical, Romance</td>\n",
       "      <td>8.30</td>\n",
       "    </tr>\n",
       "    <tr>\n",
       "      <th>9</th>\n",
       "      <td>Mystery, Romance, Thriller</td>\n",
       "      <td>8.30</td>\n",
       "    </tr>\n",
       "  </tbody>\n",
       "</table>\n",
       "</div>"
      ],
      "text/plain": [
       "                          Genre  IMDB Rating\n",
       "0      Crime, Mystery, Thriller         8.40\n",
       "1                Horror, Sci-Fi         8.40\n",
       "2                 Drama, Horror         8.40\n",
       "3                Action, Sci-Fi         8.40\n",
       "4           Drama, Mystery, War         8.35\n",
       "5                       Western         8.35\n",
       "6          Crime, Drama, Sci-Fi         8.30\n",
       "7  Adventure, Mystery, Thriller         8.30\n",
       "8      Comedy, Musical, Romance         8.30\n",
       "9    Mystery, Romance, Thriller         8.30"
      ]
     },
     "execution_count": 13,
     "metadata": {},
     "output_type": "execute_result"
    }
   ],
   "source": [
    "#Grouping by Genre\n",
    "top_Genres = data.groupby('Genre')[['IMDB Rating']].mean().sort_values('IMDB Rating',ascending=False).head(10).round(2)\n",
    "top_Genres.reset_index(inplace=True)\n",
    "top_Genres\n",
    "\n"
   ]
  },
  {
   "cell_type": "code",
   "execution_count": 14,
   "id": "016392e1",
   "metadata": {
    "execution": {
     "iopub.execute_input": "2024-04-02T10:58:05.813313Z",
     "iopub.status.busy": "2024-04-02T10:58:05.812526Z",
     "iopub.status.idle": "2024-04-02T10:58:05.836431Z",
     "shell.execute_reply": "2024-04-02T10:58:05.835604Z"
    },
    "papermill": {
     "duration": 0.043961,
     "end_time": "2024-04-02T10:58:05.838589",
     "exception": false,
     "start_time": "2024-04-02T10:58:05.794628",
     "status": "completed"
    },
    "tags": []
   },
   "outputs": [
    {
     "data": {
      "text/plain": [
       "Film-Noir      9\n",
       "Musical       14\n",
       "Western       16\n",
       "Horror        18\n",
       "Sport         19\n",
       "Music         31\n",
       "War           31\n",
       "History       41\n",
       "Family        46\n",
       "Fantasy       56\n",
       "Sci-Fi        59\n",
       "Animation     66\n",
       "Mystery       81\n",
       "Biography     96\n",
       "Romance      100\n",
       "Thriller     104\n",
       "Action       152\n",
       "Crime        160\n",
       "Adventure    167\n",
       "Comedy       183\n",
       "Drama        555\n",
       "dtype: int64"
      ]
     },
     "execution_count": 14,
     "metadata": {},
     "output_type": "execute_result"
    }
   ],
   "source": [
    "#summing up the occurrences of each genre after creating dummy variable\n",
    "Genre = data['Genre'].str.get_dummies(sep=', ')\n",
    "sum_of_generes = Genre.sum().sort_values(ascending=True)\n",
    "sum_of_generes"
   ]
  },
  {
   "cell_type": "code",
   "execution_count": 15,
   "id": "14cb6bbc",
   "metadata": {
    "execution": {
     "iopub.execute_input": "2024-04-02T10:58:05.875596Z",
     "iopub.status.busy": "2024-04-02T10:58:05.874904Z",
     "iopub.status.idle": "2024-04-02T10:58:05.883660Z",
     "shell.execute_reply": "2024-04-02T10:58:05.882853Z"
    },
    "papermill": {
     "duration": 0.029828,
     "end_time": "2024-04-02T10:58:05.886163",
     "exception": false,
     "start_time": "2024-04-02T10:58:05.856335",
     "status": "completed"
    },
    "tags": []
   },
   "outputs": [
    {
     "name": "stdout",
     "output_type": "stream",
     "text": [
      "Series_Title     0\n",
      "Release Year     0\n",
      "Age Rating       0\n",
      "Runtime          0\n",
      "Genre            0\n",
      "IMDB Rating      0\n",
      "Overview         0\n",
      "Director         0\n",
      "Star1            0\n",
      "Star2            0\n",
      "Star3            0\n",
      "Star4            0\n",
      "Votes            0\n",
      "Gross Revenue    0\n",
      "dtype: int64\n",
      "Series_Title      object\n",
      "Release Year       int64\n",
      "Age Rating        object\n",
      "Runtime            int64\n",
      "Genre             object\n",
      "IMDB Rating      float64\n",
      "Overview          object\n",
      "Director          object\n",
      "Star1             object\n",
      "Star2             object\n",
      "Star3             object\n",
      "Star4             object\n",
      "Votes              int64\n",
      "Gross Revenue    float64\n",
      "dtype: object\n"
     ]
    }
   ],
   "source": [
    "print(data.isna().sum())\n",
    "print(data.dtypes)"
   ]
  },
  {
   "cell_type": "markdown",
   "id": "73cd0833",
   "metadata": {
    "papermill": {
     "duration": 0.016244,
     "end_time": "2024-04-02T10:58:05.919057",
     "exception": false,
     "start_time": "2024-04-02T10:58:05.902813",
     "status": "completed"
    },
    "tags": []
   },
   "source": [
    "# 3. Exploratory Analysis and Visualization"
   ]
  },
  {
   "cell_type": "markdown",
   "id": "32359a46",
   "metadata": {
    "papermill": {
     "duration": 0.016444,
     "end_time": "2024-04-02T10:58:05.952067",
     "exception": false,
     "start_time": "2024-04-02T10:58:05.935623",
     "status": "completed"
    },
    "tags": []
   },
   "source": [
    "Visualization provides us liberty to find correlation between different columns of dataset in a comprehensive manner\n",
    "\n",
    "Importing Matplotlib and Seaborn Libraries to visualise our data and to find correlations between different columns.\n",
    "\n",
    "Matplotlib plots various graphs using Pandas and Numpy.\n",
    "Seaborn is the extended version of Matplotlib, which uses Matplotlib, Numpy, and Pandas to plot graphs\n"
   ]
  },
  {
   "cell_type": "code",
   "execution_count": 16,
   "id": "974eb18c",
   "metadata": {
    "execution": {
     "iopub.execute_input": "2024-04-02T10:58:05.987677Z",
     "iopub.status.busy": "2024-04-02T10:58:05.986783Z",
     "iopub.status.idle": "2024-04-02T10:58:07.609448Z",
     "shell.execute_reply": "2024-04-02T10:58:07.607886Z"
    },
    "papermill": {
     "duration": 1.643697,
     "end_time": "2024-04-02T10:58:07.612524",
     "exception": false,
     "start_time": "2024-04-02T10:58:05.968827",
     "status": "completed"
    },
    "tags": []
   },
   "outputs": [],
   "source": [
    "import seaborn as sns\n",
    "import matplotlib.pyplot as plt"
   ]
  },
  {
   "cell_type": "markdown",
   "id": "b689ebff",
   "metadata": {
    "papermill": {
     "duration": 0.016513,
     "end_time": "2024-04-02T10:58:07.646268",
     "exception": false,
     "start_time": "2024-04-02T10:58:07.629755",
     "status": "completed"
    },
    "tags": []
   },
   "source": [
    "**creating a horizontal bar chart to visualize the total counts of genres using matplotlib. ******"
   ]
  },
  {
   "cell_type": "code",
   "execution_count": 17,
   "id": "811e8bc2",
   "metadata": {
    "execution": {
     "iopub.execute_input": "2024-04-02T10:58:07.683284Z",
     "iopub.status.busy": "2024-04-02T10:58:07.682586Z",
     "iopub.status.idle": "2024-04-02T10:58:08.334971Z",
     "shell.execute_reply": "2024-04-02T10:58:08.334134Z"
    },
    "papermill": {
     "duration": 0.678169,
     "end_time": "2024-04-02T10:58:08.341503",
     "exception": false,
     "start_time": "2024-04-02T10:58:07.663334",
     "status": "completed"
    },
    "tags": []
   },
   "outputs": [
    {
     "data": {
      "image/png": "[encoded data removed]",
      "text/plain": [
       "<Figure size 2000x900 with 1 Axes>"
      ]
     },
     "metadata": {},
     "output_type": "display_data"
    }
   ],
   "source": [
    "colors = plt.cm.viridis(np.linspace(0, 1, len(sum_of_generes)))\n",
    "plt.figure(figsize=(20,9))\n",
    "plt.barh(sum_of_generes.keys(),sum_of_generes,color=colors)\n",
    "plt.title('Total Counts of Genres', fontsize=12, weight=600)\n",
    "plt.xlabel('Total Movies')\n",
    "plt.ylabel('Genres')\n",
    "plt.show()"
   ]
  },
  {
   "cell_type": "markdown",
   "id": "d77a850b",
   "metadata": {
    "papermill": {
     "duration": 0.02136,
     "end_time": "2024-04-02T10:58:08.388101",
     "exception": false,
     "start_time": "2024-04-02T10:58:08.366741",
     "status": "completed"
    },
    "tags": []
   },
   "source": [
    "Total Released movies by Date"
   ]
  },
  {
   "cell_type": "code",
   "execution_count": 18,
   "id": "bb286d0e",
   "metadata": {
    "execution": {
     "iopub.execute_input": "2024-04-02T10:58:08.426276Z",
     "iopub.status.busy": "2024-04-02T10:58:08.425357Z",
     "iopub.status.idle": "2024-04-02T10:58:08.874180Z",
     "shell.execute_reply": "2024-04-02T10:58:08.873038Z"
    },
    "papermill": {
     "duration": 0.471177,
     "end_time": "2024-04-02T10:58:08.877054",
     "exception": false,
     "start_time": "2024-04-02T10:58:08.405877",
     "status": "completed"
    },
    "tags": []
   },
   "outputs": [
    {
     "data": {
      "image/png": "[encoded data removed]",
      "text/plain": [
       "<Figure size 2000x900 with 1 Axes>"
      ]
     },
     "metadata": {},
     "output_type": "display_data"
    }
   ],
   "source": [
    "plt.figure(figsize=(20,9))\n",
    "plt.hist(data['Release Year'],color='skyblue', edgecolor='white')\n",
    "plt.xlabel('Release Year')\n",
    "plt.ylabel('Release Movie Count')\n",
    "plt.title('Total Released Movie by Date')\n",
    "plt.show()"
   ]
  },
  {
   "cell_type": "markdown",
   "id": "fad2bc69",
   "metadata": {
    "papermill": {
     "duration": 0.018668,
     "end_time": "2024-04-02T10:58:08.916154",
     "exception": false,
     "start_time": "2024-04-02T10:58:08.897486",
     "status": "completed"
    },
    "tags": []
   },
   "source": [
    "****creates a bar chart to visualize the top 10 movies based on their gross revenue. ****"
   ]
  },
  {
   "cell_type": "code",
   "execution_count": 19,
   "id": "6d30ec7f",
   "metadata": {
    "execution": {
     "iopub.execute_input": "2024-04-02T10:58:08.958145Z",
     "iopub.status.busy": "2024-04-02T10:58:08.957177Z",
     "iopub.status.idle": "2024-04-02T10:58:09.393875Z",
     "shell.execute_reply": "2024-04-02T10:58:09.392748Z"
    },
    "papermill": {
     "duration": 0.460984,
     "end_time": "2024-04-02T10:58:09.396710",
     "exception": false,
     "start_time": "2024-04-02T10:58:08.935726",
     "status": "completed"
    },
    "tags": []
   },
   "outputs": [
    {
     "data": {
      "image/png": "[encoded data removed]",
      "text/plain": [
       "<Figure size 2000x900 with 1 Axes>"
      ]
     },
     "metadata": {},
     "output_type": "display_data"
    }
   ],
   "source": [
    "plt.figure(figsize=(20,9))\n",
    "top_10_movies = data.nlargest(10, 'Gross Revenue')\n",
    "plt.bar(top_10_movies['Series_Title'], top_10_movies['Gross Revenue'], color='skyblue')\n",
    "plt.xlabel('Movie Name')\n",
    "plt.ylabel('Gross Revenue')\n",
    "plt.title('Top 10 Movies by Gross Revenue')\n",
    "\n",
    "# Rotate x-axis labels for better visibility\n",
    "plt.xticks(rotation=45, ha='right')  \n",
    "plt.show()"
   ]
  },
  {
   "cell_type": "markdown",
   "id": "b092db2b",
   "metadata": {
    "papermill": {
     "duration": 0.018998,
     "end_time": "2024-04-02T10:58:09.435206",
     "exception": false,
     "start_time": "2024-04-02T10:58:09.416208",
     "status": "completed"
    },
    "tags": []
   },
   "source": [
    "**How does the gross revenue of movies vary across different directors?**"
   ]
  },
  {
   "cell_type": "markdown",
   "id": "d910a498",
   "metadata": {
    "papermill": {
     "duration": 0.018991,
     "end_time": "2024-04-02T10:58:09.473517",
     "exception": false,
     "start_time": "2024-04-02T10:58:09.454526",
     "status": "completed"
    },
    "tags": []
   },
   "source": [
    "In the bar plot visualization:\n",
    "\n",
    "Each bar represents the total gross revenue generated by a director.\n",
    "\n",
    "The directors are sorted in descending order based on their total gross revenue.\n",
    "\n",
    "By examining the bar plot, we can identify the top directors in terms of gross revenue and compare their performance."
   ]
  },
  {
   "cell_type": "code",
   "execution_count": 20,
   "id": "05ecf001",
   "metadata": {
    "execution": {
     "iopub.execute_input": "2024-04-02T10:58:09.515502Z",
     "iopub.status.busy": "2024-04-02T10:58:09.514643Z",
     "iopub.status.idle": "2024-04-02T10:58:09.982899Z",
     "shell.execute_reply": "2024-04-02T10:58:09.981568Z"
    },
    "papermill": {
     "duration": 0.492153,
     "end_time": "2024-04-02T10:58:09.985586",
     "exception": false,
     "start_time": "2024-04-02T10:58:09.493433",
     "status": "completed"
    },
    "tags": []
   },
   "outputs": [
    {
     "data": {
      "image/png": "[encoded data removed]",
      "text/plain": [
       "<Figure size 1200x800 with 1 Axes>"
      ]
     },
     "metadata": {},
     "output_type": "display_data"
    }
   ],
   "source": [
    "# Group the data by director and calculate the total gross revenue for each director\n",
    "director_gross = data.groupby('Director')['Gross Revenue'].sum().sort_values(ascending=False)\n",
    "\n",
    "# Visualize the distribution of gross revenue across different directors using a bar plot\n",
    "plt.figure(figsize=(12, 8))\n",
    "sns.barplot(x=director_gross.index[:10], y=director_gross.values[:10], palette='viridis')\n",
    "plt.title('Total Gross Revenue by Top 10 Directors')\n",
    "plt.xlabel('Director')\n",
    "plt.ylabel('Total Gross Revenue')\n",
    "plt.xticks(rotation=45, ha='right')\n",
    "plt.tight_layout()\n",
    "plt.show()"
   ]
  },
  {
   "cell_type": "markdown",
   "id": "16390666",
   "metadata": {
    "papermill": {
     "duration": 0.019906,
     "end_time": "2024-04-02T10:58:10.026589",
     "exception": false,
     "start_time": "2024-04-02T10:58:10.006683",
     "status": "completed"
    },
    "tags": []
   },
   "source": [
    "**Is there a relationship between runtime and IMDb rating?**"
   ]
  },
  {
   "cell_type": "code",
   "execution_count": 21,
   "id": "bfbe9a01",
   "metadata": {
    "execution": {
     "iopub.execute_input": "2024-04-02T10:58:10.078287Z",
     "iopub.status.busy": "2024-04-02T10:58:10.077200Z",
     "iopub.status.idle": "2024-04-02T10:58:10.454257Z",
     "shell.execute_reply": "2024-04-02T10:58:10.453121Z"
    },
    "papermill": {
     "duration": 0.408184,
     "end_time": "2024-04-02T10:58:10.458383",
     "exception": false,
     "start_time": "2024-04-02T10:58:10.050199",
     "status": "completed"
    },
    "tags": []
   },
   "outputs": [
    {
     "data": {
      "image/png": "[encoded data removed]",
      "text/plain": [
       "<Figure size 1000x600 with 1 Axes>"
      ]
     },
     "metadata": {},
     "output_type": "display_data"
    }
   ],
   "source": [
    "# Create a scatter plot to visualize the relationship between runtime and IMDb rating\n",
    "plt.figure(figsize=(10, 6))\n",
    "plt.scatter(data['Runtime'], data['IMDB Rating'], color='darkblue',alpha=0.5)\n",
    "plt.title('Relationship between Runtime and IMDb Rating')\n",
    "plt.xlabel('Runtime (minutes)')\n",
    "plt.ylabel('IMDb Rating')\n",
    "plt.grid(True)\n",
    "plt.show()"
   ]
  },
  {
   "cell_type": "markdown",
   "id": "0837985e",
   "metadata": {
    "papermill": {
     "duration": 0.022813,
     "end_time": "2024-04-02T10:58:10.511369",
     "exception": false,
     "start_time": "2024-04-02T10:58:10.488556",
     "status": "completed"
    },
    "tags": []
   },
   "source": [
    "Yes there is a relationship between IMDb rating and runtime, particularly in the range of 100 to 200 minutes where IMDb rating tends to be higher, "
   ]
  },
  {
   "cell_type": "markdown",
   "id": "4120d349",
   "metadata": {
    "papermill": {
     "duration": 0.021183,
     "end_time": "2024-04-02T10:58:10.554165",
     "exception": false,
     "start_time": "2024-04-02T10:58:10.532982",
     "status": "completed"
    },
    "tags": []
   },
   "source": [
    "# 4. Asking and Answering Questions"
   ]
  },
  {
   "cell_type": "markdown",
   "id": "09534033",
   "metadata": {
    "papermill": {
     "duration": 0.021139,
     "end_time": "2024-04-02T10:58:10.598998",
     "exception": false,
     "start_time": "2024-04-02T10:58:10.577859",
     "status": "completed"
    },
    "tags": []
   },
   "source": [
    "**a. Which actors/actresses appear most frequently in the dataset?****"
   ]
  },
  {
   "cell_type": "code",
   "execution_count": 22,
   "id": "a5338b0a",
   "metadata": {
    "execution": {
     "iopub.execute_input": "2024-04-02T10:58:10.646759Z",
     "iopub.status.busy": "2024-04-02T10:58:10.645873Z",
     "iopub.status.idle": "2024-04-02T10:58:10.656700Z",
     "shell.execute_reply": "2024-04-02T10:58:10.655454Z"
    },
    "papermill": {
     "duration": 0.03776,
     "end_time": "2024-04-02T10:58:10.659610",
     "exception": false,
     "start_time": "2024-04-02T10:58:10.621850",
     "status": "completed"
    },
    "tags": []
   },
   "outputs": [
    {
     "name": "stdout",
     "output_type": "stream",
     "text": [
      "Top 10 actors/actresses with the most appearances:\n",
      "Robert De Niro       17\n",
      "Tom Hanks            13\n",
      "Al Pacino            13\n",
      "Brad Pitt            12\n",
      "Clint Eastwood       11\n",
      "Christian Bale       11\n",
      "Matt Damon           11\n",
      "Leonardo DiCaprio    11\n",
      "Johnny Depp           9\n",
      "Denzel Washington     9\n",
      "Name: count, dtype: int64\n"
     ]
    }
   ],
   "source": [
    "# Combine the 'Star' columns into a single Series\n",
    "stars = pd.concat([data['Star1'], data['Star2'], data['Star3'], data['Star4']])\n",
    "\n",
    "# Count the occurrences of each actor/actress\n",
    "star_counts = stars.value_counts()\n",
    "\n",
    "# Print the top 10 actors/actresses with the most appearances\n",
    "print(\"Top 10 actors/actresses with the most appearances:\")\n",
    "print(star_counts.head(10))"
   ]
  },
  {
   "cell_type": "markdown",
   "id": "dee29674",
   "metadata": {
    "papermill": {
     "duration": 0.022781,
     "end_time": "2024-04-02T10:58:10.705170",
     "exception": false,
     "start_time": "2024-04-02T10:58:10.682389",
     "status": "completed"
    },
    "tags": []
   },
   "source": [
    "* concatenate the 'Star1', 'Star2', 'Star3', and 'Star4' columns into a single Series called stars.\n",
    "* Then, we use the value_counts() function to count the occurrences of each actor/actress in the stars Series.\n",
    "* Finally, we print the top 10 actors/actresses with the most appearances in the dataset."
   ]
  },
  {
   "cell_type": "markdown",
   "id": "f6760fe6",
   "metadata": {
    "papermill": {
     "duration": 0.021248,
     "end_time": "2024-04-02T10:58:10.748325",
     "exception": false,
     "start_time": "2024-04-02T10:58:10.727077",
     "status": "completed"
    },
    "tags": []
   },
   "source": [
    "**b. Find the total number of movies which are released in the year 2010**"
   ]
  },
  {
   "cell_type": "code",
   "execution_count": 23,
   "id": "318b587d",
   "metadata": {
    "execution": {
     "iopub.execute_input": "2024-04-02T10:58:10.794198Z",
     "iopub.status.busy": "2024-04-02T10:58:10.793535Z",
     "iopub.status.idle": "2024-04-02T10:58:10.822984Z",
     "shell.execute_reply": "2024-04-02T10:58:10.821770Z"
    },
    "papermill": {
     "duration": 0.055651,
     "end_time": "2024-04-02T10:58:10.825967",
     "exception": false,
     "start_time": "2024-04-02T10:58:10.770316",
     "status": "completed"
    },
    "tags": []
   },
   "outputs": [
    {
     "data": {
      "text/html": [
       "<div>\n",
       "<style scoped>\n",
       "    .dataframe tbody tr th:only-of-type {\n",
       "        vertical-align: middle;\n",
       "    }\n",
       "\n",
       "    .dataframe tbody tr th {\n",
       "        vertical-align: top;\n",
       "    }\n",
       "\n",
       "    .dataframe thead th {\n",
       "        text-align: right;\n",
       "    }\n",
       "</style>\n",
       "<table border=\"1\" class=\"dataframe\">\n",
       "  <thead>\n",
       "    <tr style=\"text-align: right;\">\n",
       "      <th></th>\n",
       "      <th>Series_Title</th>\n",
       "      <th>Release Year</th>\n",
       "      <th>Age Rating</th>\n",
       "      <th>Runtime</th>\n",
       "      <th>Genre</th>\n",
       "      <th>IMDB Rating</th>\n",
       "      <th>Overview</th>\n",
       "      <th>Director</th>\n",
       "      <th>Star1</th>\n",
       "      <th>Star2</th>\n",
       "      <th>Star3</th>\n",
       "      <th>Star4</th>\n",
       "      <th>Votes</th>\n",
       "      <th>Gross Revenue</th>\n",
       "    </tr>\n",
       "  </thead>\n",
       "  <tbody>\n",
       "    <tr>\n",
       "      <th>8</th>\n",
       "      <td>Inception</td>\n",
       "      <td>2010</td>\n",
       "      <td>UA</td>\n",
       "      <td>148</td>\n",
       "      <td>Action, Adventure, Sci-Fi</td>\n",
       "      <td>8.8</td>\n",
       "      <td>A thief who steals corporate secrets through t...</td>\n",
       "      <td>Christopher Nolan</td>\n",
       "      <td>Leonardo DiCaprio</td>\n",
       "      <td>Joseph Gordon-Levitt</td>\n",
       "      <td>Elliot Page</td>\n",
       "      <td>Ken Watanabe</td>\n",
       "      <td>2067042</td>\n",
       "      <td>292.576195</td>\n",
       "    </tr>\n",
       "    <tr>\n",
       "      <th>90</th>\n",
       "      <td>Incendies</td>\n",
       "      <td>2010</td>\n",
       "      <td>A</td>\n",
       "      <td>131</td>\n",
       "      <td>Drama, Mystery, War</td>\n",
       "      <td>8.3</td>\n",
       "      <td>Twins journey to the Middle East to discover t...</td>\n",
       "      <td>Denis Villeneuve</td>\n",
       "      <td>Lubna Azabal</td>\n",
       "      <td>Mélissa Désormeaux-Poulin</td>\n",
       "      <td>Maxim Gaudette</td>\n",
       "      <td>Mustafa Kamel</td>\n",
       "      <td>150023</td>\n",
       "      <td>6.857096</td>\n",
       "    </tr>\n",
       "    <tr>\n",
       "      <th>141</th>\n",
       "      <td>Udaan</td>\n",
       "      <td>2010</td>\n",
       "      <td>UA</td>\n",
       "      <td>134</td>\n",
       "      <td>Drama</td>\n",
       "      <td>8.2</td>\n",
       "      <td>Expelled from his school, a 16-year old boy re...</td>\n",
       "      <td>Vikramaditya Motwane</td>\n",
       "      <td>Rajat Barmecha</td>\n",
       "      <td>Ronit Roy</td>\n",
       "      <td>Manjot Singh</td>\n",
       "      <td>Ram Kapoor</td>\n",
       "      <td>42341</td>\n",
       "      <td>0.007461</td>\n",
       "    </tr>\n",
       "    <tr>\n",
       "      <th>145</th>\n",
       "      <td>Shutter Island</td>\n",
       "      <td>2010</td>\n",
       "      <td>A</td>\n",
       "      <td>138</td>\n",
       "      <td>Mystery, Thriller</td>\n",
       "      <td>8.2</td>\n",
       "      <td>In 1954, a U.S. Marshal investigates the disap...</td>\n",
       "      <td>Martin Scorsese</td>\n",
       "      <td>Leonardo DiCaprio</td>\n",
       "      <td>Emily Mortimer</td>\n",
       "      <td>Mark Ruffalo</td>\n",
       "      <td>Ben Kingsley</td>\n",
       "      <td>1129894</td>\n",
       "      <td>128.012934</td>\n",
       "    </tr>\n",
       "    <tr>\n",
       "      <th>151</th>\n",
       "      <td>Toy Story 3</td>\n",
       "      <td>2010</td>\n",
       "      <td>U</td>\n",
       "      <td>103</td>\n",
       "      <td>Animation, Adventure, Comedy</td>\n",
       "      <td>8.2</td>\n",
       "      <td>The toys are mistakenly delivered to a day-car...</td>\n",
       "      <td>Lee Unkrich</td>\n",
       "      <td>Tom Hanks</td>\n",
       "      <td>Tim Allen</td>\n",
       "      <td>Joan Cusack</td>\n",
       "      <td>Ned Beatty</td>\n",
       "      <td>757032</td>\n",
       "      <td>415.004880</td>\n",
       "    </tr>\n",
       "    <tr>\n",
       "      <th>230</th>\n",
       "      <td>How to Train Your Dragon</td>\n",
       "      <td>2010</td>\n",
       "      <td>U</td>\n",
       "      <td>98</td>\n",
       "      <td>Animation, Action, Adventure</td>\n",
       "      <td>8.1</td>\n",
       "      <td>A hapless young Viking who aspires to hunt dra...</td>\n",
       "      <td>Dean DeBlois</td>\n",
       "      <td>Chris Sanders</td>\n",
       "      <td>Jay Baruchel</td>\n",
       "      <td>Gerard Butler</td>\n",
       "      <td>Christopher Mintz-Plasse</td>\n",
       "      <td>666773</td>\n",
       "      <td>217.581231</td>\n",
       "    </tr>\n",
       "    <tr>\n",
       "      <th>346</th>\n",
       "      <td>The King's Speech</td>\n",
       "      <td>2010</td>\n",
       "      <td>U</td>\n",
       "      <td>118</td>\n",
       "      <td>Biography, Drama, History</td>\n",
       "      <td>8.0</td>\n",
       "      <td>The story of King George VI, his impromptu asc...</td>\n",
       "      <td>Tom Hooper</td>\n",
       "      <td>Colin Firth</td>\n",
       "      <td>Geoffrey Rush</td>\n",
       "      <td>Helena Bonham Carter</td>\n",
       "      <td>Derek Jacobi</td>\n",
       "      <td>639603</td>\n",
       "      <td>138.797449</td>\n",
       "    </tr>\n",
       "    <tr>\n",
       "      <th>352</th>\n",
       "      <td>My Name Is Khan</td>\n",
       "      <td>2010</td>\n",
       "      <td>UA</td>\n",
       "      <td>165</td>\n",
       "      <td>Drama</td>\n",
       "      <td>8.0</td>\n",
       "      <td>An Indian Muslim man with Asperger's syndrome ...</td>\n",
       "      <td>Karan Johar</td>\n",
       "      <td>Shah Rukh Khan</td>\n",
       "      <td>Kajol</td>\n",
       "      <td>Sheetal Menon</td>\n",
       "      <td>Katie A. Keane</td>\n",
       "      <td>98575</td>\n",
       "      <td>4.018695</td>\n",
       "    </tr>\n",
       "    <tr>\n",
       "      <th>355</th>\n",
       "      <td>Black Swan</td>\n",
       "      <td>2010</td>\n",
       "      <td>A</td>\n",
       "      <td>108</td>\n",
       "      <td>Drama, Thriller</td>\n",
       "      <td>8.0</td>\n",
       "      <td>A committed dancer struggles to maintain her s...</td>\n",
       "      <td>Darren Aronofsky</td>\n",
       "      <td>Natalie Portman</td>\n",
       "      <td>Mila Kunis</td>\n",
       "      <td>Vincent Cassel</td>\n",
       "      <td>Winona Ryder</td>\n",
       "      <td>699673</td>\n",
       "      <td>106.954678</td>\n",
       "    </tr>\n",
       "    <tr>\n",
       "      <th>605</th>\n",
       "      <td>Ajeossi</td>\n",
       "      <td>2010</td>\n",
       "      <td>A</td>\n",
       "      <td>119</td>\n",
       "      <td>Action, Crime, Drama</td>\n",
       "      <td>7.8</td>\n",
       "      <td>A quiet pawnshop keeper with a violent past ta...</td>\n",
       "      <td>Jeong-beom Lee</td>\n",
       "      <td>Won Bin</td>\n",
       "      <td>Sae-ron Kim</td>\n",
       "      <td>Tae-hoon Kim</td>\n",
       "      <td>Hee-won Kim</td>\n",
       "      <td>62848</td>\n",
       "      <td>0.006460</td>\n",
       "    </tr>\n",
       "    <tr>\n",
       "      <th>614</th>\n",
       "      <td>The Fighter</td>\n",
       "      <td>2010</td>\n",
       "      <td>UA</td>\n",
       "      <td>116</td>\n",
       "      <td>Biography, Drama, Sport</td>\n",
       "      <td>7.8</td>\n",
       "      <td>Based on the story of Micky Ward, a fledgling ...</td>\n",
       "      <td>David O. Russell</td>\n",
       "      <td>Mark Wahlberg</td>\n",
       "      <td>Christian Bale</td>\n",
       "      <td>Amy Adams</td>\n",
       "      <td>Melissa Leo</td>\n",
       "      <td>340584</td>\n",
       "      <td>93.617009</td>\n",
       "    </tr>\n",
       "    <tr>\n",
       "      <th>748</th>\n",
       "      <td>The Social Network</td>\n",
       "      <td>2010</td>\n",
       "      <td>UA</td>\n",
       "      <td>120</td>\n",
       "      <td>Biography, Drama</td>\n",
       "      <td>7.7</td>\n",
       "      <td>As Harvard student Mark Zuckerberg creates the...</td>\n",
       "      <td>David Fincher</td>\n",
       "      <td>Jesse Eisenberg</td>\n",
       "      <td>Andrew Garfield</td>\n",
       "      <td>Justin Timberlake</td>\n",
       "      <td>Rooney Mara</td>\n",
       "      <td>624982</td>\n",
       "      <td>96.962694</td>\n",
       "    </tr>\n",
       "    <tr>\n",
       "      <th>755</th>\n",
       "      <td>Harry Potter and the Deathly Hallows: Part 1</td>\n",
       "      <td>2010</td>\n",
       "      <td>A</td>\n",
       "      <td>146</td>\n",
       "      <td>Adventure, Family, Fantasy</td>\n",
       "      <td>7.7</td>\n",
       "      <td>As Harry, Ron, and Hermione race against time ...</td>\n",
       "      <td>David Yates</td>\n",
       "      <td>Daniel Radcliffe</td>\n",
       "      <td>Emma Watson</td>\n",
       "      <td>Rupert Grint</td>\n",
       "      <td>Bill Nighy</td>\n",
       "      <td>479120</td>\n",
       "      <td>295.983305</td>\n",
       "    </tr>\n",
       "    <tr>\n",
       "      <th>760</th>\n",
       "      <td>Flipped</td>\n",
       "      <td>2010</td>\n",
       "      <td>U</td>\n",
       "      <td>90</td>\n",
       "      <td>Comedy, Drama, Romance</td>\n",
       "      <td>7.7</td>\n",
       "      <td>Two eighth-graders start to have feelings for ...</td>\n",
       "      <td>Rob Reiner</td>\n",
       "      <td>Madeline Carroll</td>\n",
       "      <td>Callan McAuliffe</td>\n",
       "      <td>Rebecca De Mornay</td>\n",
       "      <td>Anthony Edwards</td>\n",
       "      <td>81446</td>\n",
       "      <td>1.752214</td>\n",
       "    </tr>\n",
       "    <tr>\n",
       "      <th>771</th>\n",
       "      <td>Tangled</td>\n",
       "      <td>2010</td>\n",
       "      <td>U</td>\n",
       "      <td>100</td>\n",
       "      <td>Animation, Adventure, Comedy</td>\n",
       "      <td>7.7</td>\n",
       "      <td>The magically long-haired Rapunzel has spent h...</td>\n",
       "      <td>Nathan Greno</td>\n",
       "      <td>Byron Howard</td>\n",
       "      <td>Mandy Moore</td>\n",
       "      <td>Zachary Levi</td>\n",
       "      <td>Donna Murphy</td>\n",
       "      <td>405922</td>\n",
       "      <td>200.821936</td>\n",
       "    </tr>\n",
       "    <tr>\n",
       "      <th>902</th>\n",
       "      <td>Kari-gurashi no Arietti</td>\n",
       "      <td>2010</td>\n",
       "      <td>U</td>\n",
       "      <td>94</td>\n",
       "      <td>Animation, Adventure, Family</td>\n",
       "      <td>7.6</td>\n",
       "      <td>The Clock family are four-inch-tall people who...</td>\n",
       "      <td>Hiromasa Yonebayashi</td>\n",
       "      <td>Amy Poehler</td>\n",
       "      <td>Mirai Shida</td>\n",
       "      <td>Ryûnosuke Kamiki</td>\n",
       "      <td>Tatsuya Fujiwara</td>\n",
       "      <td>80939</td>\n",
       "      <td>19.202743</td>\n",
       "    </tr>\n",
       "    <tr>\n",
       "      <th>904</th>\n",
       "      <td>True Grit</td>\n",
       "      <td>2010</td>\n",
       "      <td>UA</td>\n",
       "      <td>110</td>\n",
       "      <td>Drama, Western</td>\n",
       "      <td>7.6</td>\n",
       "      <td>A stubborn teenager enlists the help of a toug...</td>\n",
       "      <td>Ethan Coen</td>\n",
       "      <td>Joel Coen</td>\n",
       "      <td>Jeff Bridges</td>\n",
       "      <td>Matt Damon</td>\n",
       "      <td>Hailee Steinfeld</td>\n",
       "      <td>311822</td>\n",
       "      <td>171.243005</td>\n",
       "    </tr>\n",
       "    <tr>\n",
       "      <th>905</th>\n",
       "      <td>Hævnen</td>\n",
       "      <td>2010</td>\n",
       "      <td>A</td>\n",
       "      <td>118</td>\n",
       "      <td>Drama, Romance</td>\n",
       "      <td>7.6</td>\n",
       "      <td>The lives of two Danish families cross each ot...</td>\n",
       "      <td>Susanne Bier</td>\n",
       "      <td>Mikael Persbrandt</td>\n",
       "      <td>Trine Dyrholm</td>\n",
       "      <td>Markus Rygaard</td>\n",
       "      <td>Wil Johnson</td>\n",
       "      <td>38491</td>\n",
       "      <td>1.008098</td>\n",
       "    </tr>\n",
       "    <tr>\n",
       "      <th>906</th>\n",
       "      <td>Despicable Me</td>\n",
       "      <td>2010</td>\n",
       "      <td>U</td>\n",
       "      <td>95</td>\n",
       "      <td>Animation, Comedy, Crime</td>\n",
       "      <td>7.6</td>\n",
       "      <td>When a criminal mastermind uses a trio of orph...</td>\n",
       "      <td>Pierre Coffin</td>\n",
       "      <td>Chris Renaud</td>\n",
       "      <td>Steve Carell</td>\n",
       "      <td>Jason Segel</td>\n",
       "      <td>Russell Brand</td>\n",
       "      <td>500851</td>\n",
       "      <td>251.513985</td>\n",
       "    </tr>\n",
       "    <tr>\n",
       "      <th>908</th>\n",
       "      <td>Kick-Ass</td>\n",
       "      <td>2010</td>\n",
       "      <td>UA</td>\n",
       "      <td>117</td>\n",
       "      <td>Action, Comedy, Crime</td>\n",
       "      <td>7.6</td>\n",
       "      <td>Dave Lizewski is an unnoticed high school stud...</td>\n",
       "      <td>Matthew Vaughn</td>\n",
       "      <td>Aaron Taylor-Johnson</td>\n",
       "      <td>Nicolas Cage</td>\n",
       "      <td>Chloë Grace Moretz</td>\n",
       "      <td>Garrett M. Brown</td>\n",
       "      <td>524081</td>\n",
       "      <td>48.071303</td>\n",
       "    </tr>\n",
       "  </tbody>\n",
       "</table>\n",
       "</div>"
      ],
      "text/plain": [
       "                                     Series_Title  Release Year Age Rating  \\\n",
       "8                                       Inception          2010         UA   \n",
       "90                                      Incendies          2010          A   \n",
       "141                                         Udaan          2010         UA   \n",
       "145                                Shutter Island          2010          A   \n",
       "151                                   Toy Story 3          2010          U   \n",
       "230                      How to Train Your Dragon          2010          U   \n",
       "346                             The King's Speech          2010          U   \n",
       "352                               My Name Is Khan          2010         UA   \n",
       "355                                    Black Swan          2010          A   \n",
       "605                                       Ajeossi          2010          A   \n",
       "614                                   The Fighter          2010         UA   \n",
       "748                            The Social Network          2010         UA   \n",
       "755  Harry Potter and the Deathly Hallows: Part 1          2010          A   \n",
       "760                                       Flipped          2010          U   \n",
       "771                                       Tangled          2010          U   \n",
       "902                       Kari-gurashi no Arietti          2010          U   \n",
       "904                                     True Grit          2010         UA   \n",
       "905                                        Hævnen          2010          A   \n",
       "906                                 Despicable Me          2010          U   \n",
       "908                                      Kick-Ass          2010         UA   \n",
       "\n",
       "     Runtime                         Genre  IMDB Rating  \\\n",
       "8        148     Action, Adventure, Sci-Fi          8.8   \n",
       "90       131           Drama, Mystery, War          8.3   \n",
       "141      134                         Drama          8.2   \n",
       "145      138             Mystery, Thriller          8.2   \n",
       "151      103  Animation, Adventure, Comedy          8.2   \n",
       "230       98  Animation, Action, Adventure          8.1   \n",
       "346      118     Biography, Drama, History          8.0   \n",
       "352      165                         Drama          8.0   \n",
       "355      108               Drama, Thriller          8.0   \n",
       "605      119          Action, Crime, Drama          7.8   \n",
       "614      116       Biography, Drama, Sport          7.8   \n",
       "748      120              Biography, Drama          7.7   \n",
       "755      146    Adventure, Family, Fantasy          7.7   \n",
       "760       90        Comedy, Drama, Romance          7.7   \n",
       "771      100  Animation, Adventure, Comedy          7.7   \n",
       "902       94  Animation, Adventure, Family          7.6   \n",
       "904      110                Drama, Western          7.6   \n",
       "905      118                Drama, Romance          7.6   \n",
       "906       95      Animation, Comedy, Crime          7.6   \n",
       "908      117         Action, Comedy, Crime          7.6   \n",
       "\n",
       "                                              Overview              Director  \\\n",
       "8    A thief who steals corporate secrets through t...     Christopher Nolan   \n",
       "90   Twins journey to the Middle East to discover t...      Denis Villeneuve   \n",
       "141  Expelled from his school, a 16-year old boy re...  Vikramaditya Motwane   \n",
       "145  In 1954, a U.S. Marshal investigates the disap...       Martin Scorsese   \n",
       "151  The toys are mistakenly delivered to a day-car...           Lee Unkrich   \n",
       "230  A hapless young Viking who aspires to hunt dra...          Dean DeBlois   \n",
       "346  The story of King George VI, his impromptu asc...            Tom Hooper   \n",
       "352  An Indian Muslim man with Asperger's syndrome ...           Karan Johar   \n",
       "355  A committed dancer struggles to maintain her s...      Darren Aronofsky   \n",
       "605  A quiet pawnshop keeper with a violent past ta...        Jeong-beom Lee   \n",
       "614  Based on the story of Micky Ward, a fledgling ...      David O. Russell   \n",
       "748  As Harvard student Mark Zuckerberg creates the...         David Fincher   \n",
       "755  As Harry, Ron, and Hermione race against time ...           David Yates   \n",
       "760  Two eighth-graders start to have feelings for ...            Rob Reiner   \n",
       "771  The magically long-haired Rapunzel has spent h...          Nathan Greno   \n",
       "902  The Clock family are four-inch-tall people who...  Hiromasa Yonebayashi   \n",
       "904  A stubborn teenager enlists the help of a toug...            Ethan Coen   \n",
       "905  The lives of two Danish families cross each ot...          Susanne Bier   \n",
       "906  When a criminal mastermind uses a trio of orph...         Pierre Coffin   \n",
       "908  Dave Lizewski is an unnoticed high school stud...        Matthew Vaughn   \n",
       "\n",
       "                    Star1                      Star2                 Star3  \\\n",
       "8       Leonardo DiCaprio       Joseph Gordon-Levitt           Elliot Page   \n",
       "90           Lubna Azabal  Mélissa Désormeaux-Poulin        Maxim Gaudette   \n",
       "141        Rajat Barmecha                  Ronit Roy          Manjot Singh   \n",
       "145     Leonardo DiCaprio             Emily Mortimer          Mark Ruffalo   \n",
       "151             Tom Hanks                  Tim Allen           Joan Cusack   \n",
       "230         Chris Sanders               Jay Baruchel         Gerard Butler   \n",
       "346           Colin Firth              Geoffrey Rush  Helena Bonham Carter   \n",
       "352        Shah Rukh Khan                      Kajol         Sheetal Menon   \n",
       "355       Natalie Portman                 Mila Kunis        Vincent Cassel   \n",
       "605               Won Bin                Sae-ron Kim          Tae-hoon Kim   \n",
       "614         Mark Wahlberg             Christian Bale             Amy Adams   \n",
       "748       Jesse Eisenberg            Andrew Garfield     Justin Timberlake   \n",
       "755      Daniel Radcliffe                Emma Watson          Rupert Grint   \n",
       "760      Madeline Carroll           Callan McAuliffe     Rebecca De Mornay   \n",
       "771          Byron Howard                Mandy Moore          Zachary Levi   \n",
       "902           Amy Poehler                Mirai Shida      Ryûnosuke Kamiki   \n",
       "904             Joel Coen               Jeff Bridges            Matt Damon   \n",
       "905     Mikael Persbrandt              Trine Dyrholm        Markus Rygaard   \n",
       "906          Chris Renaud               Steve Carell           Jason Segel   \n",
       "908  Aaron Taylor-Johnson               Nicolas Cage    Chloë Grace Moretz   \n",
       "\n",
       "                        Star4    Votes  Gross Revenue  \n",
       "8                Ken Watanabe  2067042     292.576195  \n",
       "90              Mustafa Kamel   150023       6.857096  \n",
       "141                Ram Kapoor    42341       0.007461  \n",
       "145              Ben Kingsley  1129894     128.012934  \n",
       "151                Ned Beatty   757032     415.004880  \n",
       "230  Christopher Mintz-Plasse   666773     217.581231  \n",
       "346              Derek Jacobi   639603     138.797449  \n",
       "352            Katie A. Keane    98575       4.018695  \n",
       "355              Winona Ryder   699673     106.954678  \n",
       "605               Hee-won Kim    62848       0.006460  \n",
       "614               Melissa Leo   340584      93.617009  \n",
       "748               Rooney Mara   624982      96.962694  \n",
       "755                Bill Nighy   479120     295.983305  \n",
       "760           Anthony Edwards    81446       1.752214  \n",
       "771              Donna Murphy   405922     200.821936  \n",
       "902          Tatsuya Fujiwara    80939      19.202743  \n",
       "904          Hailee Steinfeld   311822     171.243005  \n",
       "905               Wil Johnson    38491       1.008098  \n",
       "906             Russell Brand   500851     251.513985  \n",
       "908          Garrett M. Brown   524081      48.071303  "
      ]
     },
     "execution_count": 23,
     "metadata": {},
     "output_type": "execute_result"
    }
   ],
   "source": [
    "movies_2010=data[data[\"Release Year\"] == 2010]\n",
    "movies_2010"
   ]
  },
  {
   "cell_type": "code",
   "execution_count": 24,
   "id": "2bfdbdf4",
   "metadata": {
    "execution": {
     "iopub.execute_input": "2024-04-02T10:58:10.874192Z",
     "iopub.status.busy": "2024-04-02T10:58:10.873532Z",
     "iopub.status.idle": "2024-04-02T10:58:10.879635Z",
     "shell.execute_reply": "2024-04-02T10:58:10.878382Z"
    },
    "papermill": {
     "duration": 0.033272,
     "end_time": "2024-04-02T10:58:10.882009",
     "exception": false,
     "start_time": "2024-04-02T10:58:10.848737",
     "status": "completed"
    },
    "tags": []
   },
   "outputs": [
    {
     "name": "stdout",
     "output_type": "stream",
     "text": [
      "Total number of movie releases in 2010: 20\n"
     ]
    }
   ],
   "source": [
    "total_movies_2010 = movies_2010.shape[0]\n",
    "print(\"Total number of movie releases in 2010:\", total_movies_2010)"
   ]
  },
  {
   "cell_type": "markdown",
   "id": "455db02e",
   "metadata": {
    "papermill": {
     "duration": 0.024312,
     "end_time": "2024-04-02T10:58:10.928695",
     "exception": false,
     "start_time": "2024-04-02T10:58:10.904383",
     "status": "completed"
    },
    "tags": []
   },
   "source": [
    "**c. Which are the top 3 Movies with maximum number of votes ?**"
   ]
  },
  {
   "cell_type": "code",
   "execution_count": 25,
   "id": "6cb7c7b3",
   "metadata": {
    "execution": {
     "iopub.execute_input": "2024-04-02T10:58:10.980110Z",
     "iopub.status.busy": "2024-04-02T10:58:10.979456Z",
     "iopub.status.idle": "2024-04-02T10:58:11.000154Z",
     "shell.execute_reply": "2024-04-02T10:58:10.998173Z"
    },
    "papermill": {
     "duration": 0.047825,
     "end_time": "2024-04-02T10:58:11.002618",
     "exception": false,
     "start_time": "2024-04-02T10:58:10.954793",
     "status": "completed"
    },
    "tags": []
   },
   "outputs": [
    {
     "data": {
      "text/html": [
       "<div>\n",
       "<style scoped>\n",
       "    .dataframe tbody tr th:only-of-type {\n",
       "        vertical-align: middle;\n",
       "    }\n",
       "\n",
       "    .dataframe tbody tr th {\n",
       "        vertical-align: top;\n",
       "    }\n",
       "\n",
       "    .dataframe thead th {\n",
       "        text-align: right;\n",
       "    }\n",
       "</style>\n",
       "<table border=\"1\" class=\"dataframe\">\n",
       "  <thead>\n",
       "    <tr style=\"text-align: right;\">\n",
       "      <th></th>\n",
       "      <th>Series_Title</th>\n",
       "      <th>Release Year</th>\n",
       "      <th>Age Rating</th>\n",
       "      <th>Runtime</th>\n",
       "      <th>Genre</th>\n",
       "      <th>IMDB Rating</th>\n",
       "      <th>Overview</th>\n",
       "      <th>Director</th>\n",
       "      <th>Star1</th>\n",
       "      <th>Star2</th>\n",
       "      <th>Star3</th>\n",
       "      <th>Star4</th>\n",
       "      <th>Votes</th>\n",
       "      <th>Gross Revenue</th>\n",
       "    </tr>\n",
       "  </thead>\n",
       "  <tbody>\n",
       "    <tr>\n",
       "      <th>0</th>\n",
       "      <td>The Shawshank Redemption</td>\n",
       "      <td>1994</td>\n",
       "      <td>A</td>\n",
       "      <td>142</td>\n",
       "      <td>Drama</td>\n",
       "      <td>9.3</td>\n",
       "      <td>Two imprisoned men bond over a number of years...</td>\n",
       "      <td>Frank Darabont</td>\n",
       "      <td>Tim Robbins</td>\n",
       "      <td>Morgan Freeman</td>\n",
       "      <td>Bob Gunton</td>\n",
       "      <td>William Sadler</td>\n",
       "      <td>2343110</td>\n",
       "      <td>28.341469</td>\n",
       "    </tr>\n",
       "    <tr>\n",
       "      <th>2</th>\n",
       "      <td>The Dark Knight</td>\n",
       "      <td>2008</td>\n",
       "      <td>UA</td>\n",
       "      <td>152</td>\n",
       "      <td>Action, Crime, Drama</td>\n",
       "      <td>9.0</td>\n",
       "      <td>When the menace known as the Joker wreaks havo...</td>\n",
       "      <td>Christopher Nolan</td>\n",
       "      <td>Christian Bale</td>\n",
       "      <td>Heath Ledger</td>\n",
       "      <td>Aaron Eckhart</td>\n",
       "      <td>Michael Caine</td>\n",
       "      <td>2303232</td>\n",
       "      <td>534.858444</td>\n",
       "    </tr>\n",
       "    <tr>\n",
       "      <th>8</th>\n",
       "      <td>Inception</td>\n",
       "      <td>2010</td>\n",
       "      <td>UA</td>\n",
       "      <td>148</td>\n",
       "      <td>Action, Adventure, Sci-Fi</td>\n",
       "      <td>8.8</td>\n",
       "      <td>A thief who steals corporate secrets through t...</td>\n",
       "      <td>Christopher Nolan</td>\n",
       "      <td>Leonardo DiCaprio</td>\n",
       "      <td>Joseph Gordon-Levitt</td>\n",
       "      <td>Elliot Page</td>\n",
       "      <td>Ken Watanabe</td>\n",
       "      <td>2067042</td>\n",
       "      <td>292.576195</td>\n",
       "    </tr>\n",
       "  </tbody>\n",
       "</table>\n",
       "</div>"
      ],
      "text/plain": [
       "               Series_Title  Release Year Age Rating  Runtime  \\\n",
       "0  The Shawshank Redemption          1994          A      142   \n",
       "2           The Dark Knight          2008         UA      152   \n",
       "8                 Inception          2010         UA      148   \n",
       "\n",
       "                       Genre  IMDB Rating  \\\n",
       "0                      Drama          9.3   \n",
       "2       Action, Crime, Drama          9.0   \n",
       "8  Action, Adventure, Sci-Fi          8.8   \n",
       "\n",
       "                                            Overview           Director  \\\n",
       "0  Two imprisoned men bond over a number of years...     Frank Darabont   \n",
       "2  When the menace known as the Joker wreaks havo...  Christopher Nolan   \n",
       "8  A thief who steals corporate secrets through t...  Christopher Nolan   \n",
       "\n",
       "               Star1                 Star2          Star3           Star4  \\\n",
       "0        Tim Robbins        Morgan Freeman     Bob Gunton  William Sadler   \n",
       "2     Christian Bale          Heath Ledger  Aaron Eckhart   Michael Caine   \n",
       "8  Leonardo DiCaprio  Joseph Gordon-Levitt    Elliot Page    Ken Watanabe   \n",
       "\n",
       "     Votes  Gross Revenue  \n",
       "0  2343110      28.341469  \n",
       "2  2303232     534.858444  \n",
       "8  2067042     292.576195  "
      ]
     },
     "execution_count": 25,
     "metadata": {},
     "output_type": "execute_result"
    }
   ],
   "source": [
    "votes_movies = data.sort_values(\"Votes\", ascending = False).head(3)\n",
    "votes_movies"
   ]
  },
  {
   "cell_type": "code",
   "execution_count": 26,
   "id": "62e95a9c",
   "metadata": {
    "execution": {
     "iopub.execute_input": "2024-04-02T10:58:11.050859Z",
     "iopub.status.busy": "2024-04-02T10:58:11.050172Z",
     "iopub.status.idle": "2024-04-02T10:58:11.478437Z",
     "shell.execute_reply": "2024-04-02T10:58:11.477225Z"
    },
    "papermill": {
     "duration": 0.455655,
     "end_time": "2024-04-02T10:58:11.481253",
     "exception": false,
     "start_time": "2024-04-02T10:58:11.025598",
     "status": "completed"
    },
    "tags": []
   },
   "outputs": [
    {
     "data": {
      "image/png": "[encoded data removed]",
      "text/plain": [
       "<Figure size 2000x900 with 1 Axes>"
      ]
     },
     "metadata": {},
     "output_type": "display_data"
    }
   ],
   "source": [
    "plt.figure(figsize=(20,9))\n",
    "sns.set(font_scale = 2)\n",
    "sns.barplot(x =\"Votes\" , y =\"Series_Title\", data = votes_movies,orient ='h',palette = \"muted\")\n",
    "plt.title(\"Top 3 Movies on Basis of Votes\")\n",
    "plt.xlabel(\"Votes\")\n",
    "plt.ylabel(\"Movies\")\n",
    "plt.show()"
   ]
  },
  {
   "cell_type": "code",
   "execution_count": 27,
   "id": "e08bc8b6",
   "metadata": {
    "execution": {
     "iopub.execute_input": "2024-04-02T10:58:11.532287Z",
     "iopub.status.busy": "2024-04-02T10:58:11.531603Z",
     "iopub.status.idle": "2024-04-02T10:58:11.548533Z",
     "shell.execute_reply": "2024-04-02T10:58:11.547624Z"
    },
    "papermill": {
     "duration": 0.044984,
     "end_time": "2024-04-02T10:58:11.550639",
     "exception": false,
     "start_time": "2024-04-02T10:58:11.505655",
     "status": "completed"
    },
    "tags": []
   },
   "outputs": [
    {
     "data": {
      "text/html": [
       "<div>\n",
       "<style scoped>\n",
       "    .dataframe tbody tr th:only-of-type {\n",
       "        vertical-align: middle;\n",
       "    }\n",
       "\n",
       "    .dataframe tbody tr th {\n",
       "        vertical-align: top;\n",
       "    }\n",
       "\n",
       "    .dataframe thead th {\n",
       "        text-align: right;\n",
       "    }\n",
       "</style>\n",
       "<table border=\"1\" class=\"dataframe\">\n",
       "  <thead>\n",
       "    <tr style=\"text-align: right;\">\n",
       "      <th></th>\n",
       "      <th>Series_Title</th>\n",
       "      <th>Release Year</th>\n",
       "      <th>Age Rating</th>\n",
       "      <th>Runtime</th>\n",
       "      <th>Genre</th>\n",
       "      <th>IMDB Rating</th>\n",
       "      <th>Overview</th>\n",
       "      <th>Director</th>\n",
       "      <th>Star1</th>\n",
       "      <th>Star2</th>\n",
       "      <th>Star3</th>\n",
       "      <th>Star4</th>\n",
       "      <th>Votes</th>\n",
       "      <th>Gross Revenue</th>\n",
       "    </tr>\n",
       "  </thead>\n",
       "  <tbody>\n",
       "    <tr>\n",
       "      <th>0</th>\n",
       "      <td>The Shawshank Redemption</td>\n",
       "      <td>1994</td>\n",
       "      <td>A</td>\n",
       "      <td>142</td>\n",
       "      <td>Drama</td>\n",
       "      <td>9.3</td>\n",
       "      <td>Two imprisoned men bond over a number of years...</td>\n",
       "      <td>Frank Darabont</td>\n",
       "      <td>Tim Robbins</td>\n",
       "      <td>Morgan Freeman</td>\n",
       "      <td>Bob Gunton</td>\n",
       "      <td>William Sadler</td>\n",
       "      <td>2343110</td>\n",
       "      <td>28.341469</td>\n",
       "    </tr>\n",
       "  </tbody>\n",
       "</table>\n",
       "</div>"
      ],
      "text/plain": [
       "               Series_Title  Release Year Age Rating  Runtime  Genre  \\\n",
       "0  The Shawshank Redemption          1994          A      142  Drama   \n",
       "\n",
       "   IMDB Rating                                           Overview  \\\n",
       "0          9.3  Two imprisoned men bond over a number of years...   \n",
       "\n",
       "         Director        Star1           Star2       Star3           Star4  \\\n",
       "0  Frank Darabont  Tim Robbins  Morgan Freeman  Bob Gunton  William Sadler   \n",
       "\n",
       "     Votes  Gross Revenue  \n",
       "0  2343110      28.341469  "
      ]
     },
     "execution_count": 27,
     "metadata": {},
     "output_type": "execute_result"
    }
   ],
   "source": [
    "data.head(1)"
   ]
  },
  {
   "cell_type": "markdown",
   "id": "e770ba91",
   "metadata": {
    "papermill": {
     "duration": 0.024207,
     "end_time": "2024-04-02T10:58:11.598936",
     "exception": false,
     "start_time": "2024-04-02T10:58:11.574729",
     "status": "completed"
    },
    "tags": []
   },
   "source": [
    "**d.Determine which Age group as the highest Votes ?**"
   ]
  },
  {
   "cell_type": "code",
   "execution_count": 28,
   "id": "c5e57187",
   "metadata": {
    "execution": {
     "iopub.execute_input": "2024-04-02T10:58:11.651514Z",
     "iopub.status.busy": "2024-04-02T10:58:11.650207Z",
     "iopub.status.idle": "2024-04-02T10:58:11.660303Z",
     "shell.execute_reply": "2024-04-02T10:58:11.659113Z"
    },
    "papermill": {
     "duration": 0.039289,
     "end_time": "2024-04-02T10:58:11.662635",
     "exception": false,
     "start_time": "2024-04-02T10:58:11.623346",
     "status": "completed"
    },
    "tags": []
   },
   "outputs": [
    {
     "data": {
      "text/plain": [
       "Age Rating\n",
       "A     112978860\n",
       "U      61382018\n",
       "UA     84463495\n",
       "Name: Votes, dtype: int64"
      ]
     },
     "execution_count": 28,
     "metadata": {},
     "output_type": "execute_result"
    }
   ],
   "source": [
    "rating_by_age=data.groupby('Age Rating')['Votes'].sum()\n",
    "rating_by_age"
   ]
  },
  {
   "cell_type": "code",
   "execution_count": 29,
   "id": "cadd30ee",
   "metadata": {
    "execution": {
     "iopub.execute_input": "2024-04-02T10:58:11.714807Z",
     "iopub.status.busy": "2024-04-02T10:58:11.714007Z",
     "iopub.status.idle": "2024-04-02T10:58:11.721822Z",
     "shell.execute_reply": "2024-04-02T10:58:11.720311Z"
    },
    "papermill": {
     "duration": 0.036711,
     "end_time": "2024-04-02T10:58:11.724316",
     "exception": false,
     "start_time": "2024-04-02T10:58:11.687605",
     "status": "completed"
    },
    "tags": []
   },
   "outputs": [
    {
     "name": "stdout",
     "output_type": "stream",
     "text": [
      "the highest Votes according the age group is Age Rating\n",
      "A    112978860\n",
      "Name: Votes, dtype: int64\n"
     ]
    }
   ],
   "source": [
    "print(\"the highest Votes according the age group is\",rating_by_age[:1])"
   ]
  }
 ],
 "metadata": {
  "kaggle": {
   "accelerator": "none",
   "dataSources": [
    {
     "datasetId": 4690665,
     "sourceId": 7971617,
     "sourceType": "datasetVersion"
    }
   ],
   "dockerImageVersionId": 30673,
   "isGpuEnabled": false,
   "isInternetEnabled": false,
   "language": "python",
   "sourceType": "notebook"
  },
  "kernelspec": {
   "display_name": "Python 3",
   "language": "python",
   "name": "python3"
  },
  "language_info": {
   "codemirror_mode": {
    "name": "ipython",
    "version": 3
   },
   "file_extension": ".py",
   "mimetype": "text/x-python",
   "name": "python",
   "nbconvert_exporter": "python",
   "pygments_lexer": "ipython3",
   "version": "3.10.13"
  },
  "papermill": {
   "default_parameters": {},
   "duration": 11.685556,
   "end_time": "2024-04-02T10:58:12.370722",
   "environment_variables": {},
   "exception": null,
   "input_path": "__notebook__.ipynb",
   "output_path": "__notebook__.ipynb",
   "parameters": {},
   "start_time": "2024-04-02T10:58:00.685166",
   "version": "2.5.0"
  }
 },
 "nbformat": 4,
 "nbformat_minor": 5
}
